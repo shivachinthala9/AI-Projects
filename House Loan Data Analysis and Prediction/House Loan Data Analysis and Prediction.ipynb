{
  "cells": [
    {
      "cell_type": "markdown",
      "source": [
        "# House Loan Data Analysis Project\n",
        "\n",
        "For safe and secure lending experience, it's important to analyze the past data. In this project, you have to build a deep learning model to predict the chance of default for future loans using the historical data. As you will see, this dataset is highly imbalanced and includes a lot of features that make this problem more challenging. Objective: Create a model that predicts whether or not an applicant will be able to repay a loan using historical data.\n",
        "\n",
        "Domain: Finance\n",
        "\n",
        "Analysis to be done: Perform data preprocessing and build a deep learning prediction model.\n",
        "\n",
        "Steps to be done:\n",
        "\n",
        "⦁ Load the dataset that is given to you ⦁ Check for null values in the dataset ⦁ Print percentage of default to payer of the dataset for the TARGET column ⦁ Balance the dataset if the data is imbalanced ⦁ Plot the balanced data or imbalanced data ⦁ Encode the columns that is required for the model ⦁ Calculate Sensitivity as a metrice ⦁ Calculate area under receiver operating characteristics curve"
      ],
      "metadata": {
        "id": "WK6RDFsPketJ"
      },
      "id": "WK6RDFsPketJ"
    },
    {
      "cell_type": "markdown",
      "source": [
        "### Importing required libraries"
      ],
      "metadata": {
        "id": "xTz6thKckrZd"
      },
      "id": "xTz6thKckrZd"
    },
    {
      "cell_type": "code",
      "execution_count": null,
      "metadata": {
        "id": "6010a14b-5f25-44e0-963d-29a832b2728b"
      },
      "outputs": [],
      "source": [
        "import numpy as np\n",
        "import pandas as pd\n",
        "import matplotlib.pyplot as plt\n",
        "%matplotlib inline"
      ],
      "id": "6010a14b-5f25-44e0-963d-29a832b2728b"
    },
    {
      "cell_type": "code",
      "execution_count": null,
      "metadata": {
        "id": "7afe34d0-b931-46f7-8fbd-1886ff81470e"
      },
      "outputs": [],
      "source": [
        "from subprocess import check_output\n",
        "from tensorflow.keras.layers import Dense, Activation, Dropout\n",
        "from tensorflow.keras.layers import BatchNormalization\n",
        "from tensorflow.keras.models import Sequential\n",
        "from sklearn.model_selection import train_test_split\n",
        "from sklearn.preprocessing import MinMaxScaler"
      ],
      "id": "7afe34d0-b931-46f7-8fbd-1886ff81470e"
    },
    {
      "cell_type": "code",
      "execution_count": null,
      "metadata": {
        "colab": {
          "base_uri": "https://localhost:8080/",
          "height": 299
        },
        "id": "84fdeb45",
        "outputId": "3d45ecd1-3abe-4744-8c0f-64b80165421b"
      },
      "outputs": [
        {
          "output_type": "execute_result",
          "data": {
            "text/plain": [
              "   SK_ID_CURR  TARGET NAME_CONTRACT_TYPE CODE_GENDER FLAG_OWN_CAR  \\\n",
              "0      100002       1         Cash loans           M            N   \n",
              "1      100003       0         Cash loans           F            N   \n",
              "2      100004       0    Revolving loans           M            Y   \n",
              "3      100006       0         Cash loans           F            N   \n",
              "4      100007       0         Cash loans           M            N   \n",
              "\n",
              "  FLAG_OWN_REALTY  CNT_CHILDREN  AMT_INCOME_TOTAL  AMT_CREDIT  AMT_ANNUITY  \\\n",
              "0               Y             0          202500.0    406597.5      24700.5   \n",
              "1               N             0          270000.0   1293502.5      35698.5   \n",
              "2               Y             0           67500.0    135000.0       6750.0   \n",
              "3               Y             0          135000.0    312682.5      29686.5   \n",
              "4               Y             0          121500.0    513000.0      21865.5   \n",
              "\n",
              "   ...  FLAG_DOCUMENT_18 FLAG_DOCUMENT_19 FLAG_DOCUMENT_20 FLAG_DOCUMENT_21  \\\n",
              "0  ...               0.0              0.0              0.0              0.0   \n",
              "1  ...               0.0              0.0              0.0              0.0   \n",
              "2  ...               0.0              0.0              0.0              0.0   \n",
              "3  ...               0.0              0.0              0.0              0.0   \n",
              "4  ...               0.0              0.0              0.0              0.0   \n",
              "\n",
              "  AMT_REQ_CREDIT_BUREAU_HOUR AMT_REQ_CREDIT_BUREAU_DAY  \\\n",
              "0                        0.0                       0.0   \n",
              "1                        0.0                       0.0   \n",
              "2                        0.0                       0.0   \n",
              "3                        NaN                       NaN   \n",
              "4                        0.0                       0.0   \n",
              "\n",
              "   AMT_REQ_CREDIT_BUREAU_WEEK  AMT_REQ_CREDIT_BUREAU_MON  \\\n",
              "0                         0.0                        0.0   \n",
              "1                         0.0                        0.0   \n",
              "2                         0.0                        0.0   \n",
              "3                         NaN                        NaN   \n",
              "4                         0.0                        0.0   \n",
              "\n",
              "   AMT_REQ_CREDIT_BUREAU_QRT  AMT_REQ_CREDIT_BUREAU_YEAR  \n",
              "0                        0.0                         1.0  \n",
              "1                        0.0                         0.0  \n",
              "2                        0.0                         0.0  \n",
              "3                        NaN                         NaN  \n",
              "4                        0.0                         0.0  \n",
              "\n",
              "[5 rows x 122 columns]"
            ],
            "text/html": [
              "\n",
              "\n",
              "  <div id=\"df-55751bf6-3351-4364-a94f-b743bc99bf07\">\n",
              "    <div class=\"colab-df-container\">\n",
              "      <div>\n",
              "<style scoped>\n",
              "    .dataframe tbody tr th:only-of-type {\n",
              "        vertical-align: middle;\n",
              "    }\n",
              "\n",
              "    .dataframe tbody tr th {\n",
              "        vertical-align: top;\n",
              "    }\n",
              "\n",
              "    .dataframe thead th {\n",
              "        text-align: right;\n",
              "    }\n",
              "</style>\n",
              "<table border=\"1\" class=\"dataframe\">\n",
              "  <thead>\n",
              "    <tr style=\"text-align: right;\">\n",
              "      <th></th>\n",
              "      <th>SK_ID_CURR</th>\n",
              "      <th>TARGET</th>\n",
              "      <th>NAME_CONTRACT_TYPE</th>\n",
              "      <th>CODE_GENDER</th>\n",
              "      <th>FLAG_OWN_CAR</th>\n",
              "      <th>FLAG_OWN_REALTY</th>\n",
              "      <th>CNT_CHILDREN</th>\n",
              "      <th>AMT_INCOME_TOTAL</th>\n",
              "      <th>AMT_CREDIT</th>\n",
              "      <th>AMT_ANNUITY</th>\n",
              "      <th>...</th>\n",
              "      <th>FLAG_DOCUMENT_18</th>\n",
              "      <th>FLAG_DOCUMENT_19</th>\n",
              "      <th>FLAG_DOCUMENT_20</th>\n",
              "      <th>FLAG_DOCUMENT_21</th>\n",
              "      <th>AMT_REQ_CREDIT_BUREAU_HOUR</th>\n",
              "      <th>AMT_REQ_CREDIT_BUREAU_DAY</th>\n",
              "      <th>AMT_REQ_CREDIT_BUREAU_WEEK</th>\n",
              "      <th>AMT_REQ_CREDIT_BUREAU_MON</th>\n",
              "      <th>AMT_REQ_CREDIT_BUREAU_QRT</th>\n",
              "      <th>AMT_REQ_CREDIT_BUREAU_YEAR</th>\n",
              "    </tr>\n",
              "  </thead>\n",
              "  <tbody>\n",
              "    <tr>\n",
              "      <th>0</th>\n",
              "      <td>100002</td>\n",
              "      <td>1</td>\n",
              "      <td>Cash loans</td>\n",
              "      <td>M</td>\n",
              "      <td>N</td>\n",
              "      <td>Y</td>\n",
              "      <td>0</td>\n",
              "      <td>202500.0</td>\n",
              "      <td>406597.5</td>\n",
              "      <td>24700.5</td>\n",
              "      <td>...</td>\n",
              "      <td>0.0</td>\n",
              "      <td>0.0</td>\n",
              "      <td>0.0</td>\n",
              "      <td>0.0</td>\n",
              "      <td>0.0</td>\n",
              "      <td>0.0</td>\n",
              "      <td>0.0</td>\n",
              "      <td>0.0</td>\n",
              "      <td>0.0</td>\n",
              "      <td>1.0</td>\n",
              "    </tr>\n",
              "    <tr>\n",
              "      <th>1</th>\n",
              "      <td>100003</td>\n",
              "      <td>0</td>\n",
              "      <td>Cash loans</td>\n",
              "      <td>F</td>\n",
              "      <td>N</td>\n",
              "      <td>N</td>\n",
              "      <td>0</td>\n",
              "      <td>270000.0</td>\n",
              "      <td>1293502.5</td>\n",
              "      <td>35698.5</td>\n",
              "      <td>...</td>\n",
              "      <td>0.0</td>\n",
              "      <td>0.0</td>\n",
              "      <td>0.0</td>\n",
              "      <td>0.0</td>\n",
              "      <td>0.0</td>\n",
              "      <td>0.0</td>\n",
              "      <td>0.0</td>\n",
              "      <td>0.0</td>\n",
              "      <td>0.0</td>\n",
              "      <td>0.0</td>\n",
              "    </tr>\n",
              "    <tr>\n",
              "      <th>2</th>\n",
              "      <td>100004</td>\n",
              "      <td>0</td>\n",
              "      <td>Revolving loans</td>\n",
              "      <td>M</td>\n",
              "      <td>Y</td>\n",
              "      <td>Y</td>\n",
              "      <td>0</td>\n",
              "      <td>67500.0</td>\n",
              "      <td>135000.0</td>\n",
              "      <td>6750.0</td>\n",
              "      <td>...</td>\n",
              "      <td>0.0</td>\n",
              "      <td>0.0</td>\n",
              "      <td>0.0</td>\n",
              "      <td>0.0</td>\n",
              "      <td>0.0</td>\n",
              "      <td>0.0</td>\n",
              "      <td>0.0</td>\n",
              "      <td>0.0</td>\n",
              "      <td>0.0</td>\n",
              "      <td>0.0</td>\n",
              "    </tr>\n",
              "    <tr>\n",
              "      <th>3</th>\n",
              "      <td>100006</td>\n",
              "      <td>0</td>\n",
              "      <td>Cash loans</td>\n",
              "      <td>F</td>\n",
              "      <td>N</td>\n",
              "      <td>Y</td>\n",
              "      <td>0</td>\n",
              "      <td>135000.0</td>\n",
              "      <td>312682.5</td>\n",
              "      <td>29686.5</td>\n",
              "      <td>...</td>\n",
              "      <td>0.0</td>\n",
              "      <td>0.0</td>\n",
              "      <td>0.0</td>\n",
              "      <td>0.0</td>\n",
              "      <td>NaN</td>\n",
              "      <td>NaN</td>\n",
              "      <td>NaN</td>\n",
              "      <td>NaN</td>\n",
              "      <td>NaN</td>\n",
              "      <td>NaN</td>\n",
              "    </tr>\n",
              "    <tr>\n",
              "      <th>4</th>\n",
              "      <td>100007</td>\n",
              "      <td>0</td>\n",
              "      <td>Cash loans</td>\n",
              "      <td>M</td>\n",
              "      <td>N</td>\n",
              "      <td>Y</td>\n",
              "      <td>0</td>\n",
              "      <td>121500.0</td>\n",
              "      <td>513000.0</td>\n",
              "      <td>21865.5</td>\n",
              "      <td>...</td>\n",
              "      <td>0.0</td>\n",
              "      <td>0.0</td>\n",
              "      <td>0.0</td>\n",
              "      <td>0.0</td>\n",
              "      <td>0.0</td>\n",
              "      <td>0.0</td>\n",
              "      <td>0.0</td>\n",
              "      <td>0.0</td>\n",
              "      <td>0.0</td>\n",
              "      <td>0.0</td>\n",
              "    </tr>\n",
              "  </tbody>\n",
              "</table>\n",
              "<p>5 rows × 122 columns</p>\n",
              "</div>\n",
              "      <button class=\"colab-df-convert\" onclick=\"convertToInteractive('df-55751bf6-3351-4364-a94f-b743bc99bf07')\"\n",
              "              title=\"Convert this dataframe to an interactive table.\"\n",
              "              style=\"display:none;\">\n",
              "\n",
              "  <svg xmlns=\"http://www.w3.org/2000/svg\" height=\"24px\"viewBox=\"0 0 24 24\"\n",
              "       width=\"24px\">\n",
              "    <path d=\"M0 0h24v24H0V0z\" fill=\"none\"/>\n",
              "    <path d=\"M18.56 5.44l.94 2.06.94-2.06 2.06-.94-2.06-.94-.94-2.06-.94 2.06-2.06.94zm-11 1L8.5 8.5l.94-2.06 2.06-.94-2.06-.94L8.5 2.5l-.94 2.06-2.06.94zm10 10l.94 2.06.94-2.06 2.06-.94-2.06-.94-.94-2.06-.94 2.06-2.06.94z\"/><path d=\"M17.41 7.96l-1.37-1.37c-.4-.4-.92-.59-1.43-.59-.52 0-1.04.2-1.43.59L10.3 9.45l-7.72 7.72c-.78.78-.78 2.05 0 2.83L4 21.41c.39.39.9.59 1.41.59.51 0 1.02-.2 1.41-.59l7.78-7.78 2.81-2.81c.8-.78.8-2.07 0-2.86zM5.41 20L4 18.59l7.72-7.72 1.47 1.35L5.41 20z\"/>\n",
              "  </svg>\n",
              "      </button>\n",
              "\n",
              "\n",
              "\n",
              "    <div id=\"df-b14d2396-581b-4fe2-beff-77682123b4cd\">\n",
              "      <button class=\"colab-df-quickchart\" onclick=\"quickchart('df-b14d2396-581b-4fe2-beff-77682123b4cd')\"\n",
              "              title=\"Suggest charts.\"\n",
              "              style=\"display:none;\">\n",
              "\n",
              "<svg xmlns=\"http://www.w3.org/2000/svg\" height=\"24px\"viewBox=\"0 0 24 24\"\n",
              "     width=\"24px\">\n",
              "    <g>\n",
              "        <path d=\"M19 3H5c-1.1 0-2 .9-2 2v14c0 1.1.9 2 2 2h14c1.1 0 2-.9 2-2V5c0-1.1-.9-2-2-2zM9 17H7v-7h2v7zm4 0h-2V7h2v10zm4 0h-2v-4h2v4z\"/>\n",
              "    </g>\n",
              "</svg>\n",
              "      </button>\n",
              "    </div>\n",
              "\n",
              "<style>\n",
              "  .colab-df-quickchart {\n",
              "    background-color: #E8F0FE;\n",
              "    border: none;\n",
              "    border-radius: 50%;\n",
              "    cursor: pointer;\n",
              "    display: none;\n",
              "    fill: #1967D2;\n",
              "    height: 32px;\n",
              "    padding: 0 0 0 0;\n",
              "    width: 32px;\n",
              "  }\n",
              "\n",
              "  .colab-df-quickchart:hover {\n",
              "    background-color: #E2EBFA;\n",
              "    box-shadow: 0px 1px 2px rgba(60, 64, 67, 0.3), 0px 1px 3px 1px rgba(60, 64, 67, 0.15);\n",
              "    fill: #174EA6;\n",
              "  }\n",
              "\n",
              "  [theme=dark] .colab-df-quickchart {\n",
              "    background-color: #3B4455;\n",
              "    fill: #D2E3FC;\n",
              "  }\n",
              "\n",
              "  [theme=dark] .colab-df-quickchart:hover {\n",
              "    background-color: #434B5C;\n",
              "    box-shadow: 0px 1px 3px 1px rgba(0, 0, 0, 0.15);\n",
              "    filter: drop-shadow(0px 1px 2px rgba(0, 0, 0, 0.3));\n",
              "    fill: #FFFFFF;\n",
              "  }\n",
              "</style>\n",
              "\n",
              "    <script>\n",
              "      async function quickchart(key) {\n",
              "        const containerElement = document.querySelector('#' + key);\n",
              "        const charts = await google.colab.kernel.invokeFunction(\n",
              "            'suggestCharts', [key], {});\n",
              "      }\n",
              "    </script>\n",
              "\n",
              "      <script>\n",
              "\n",
              "function displayQuickchartButton(domScope) {\n",
              "  let quickchartButtonEl =\n",
              "    domScope.querySelector('#df-b14d2396-581b-4fe2-beff-77682123b4cd button.colab-df-quickchart');\n",
              "  quickchartButtonEl.style.display =\n",
              "    google.colab.kernel.accessAllowed ? 'block' : 'none';\n",
              "}\n",
              "\n",
              "        displayQuickchartButton(document);\n",
              "      </script>\n",
              "      <style>\n",
              "    .colab-df-container {\n",
              "      display:flex;\n",
              "      flex-wrap:wrap;\n",
              "      gap: 12px;\n",
              "    }\n",
              "\n",
              "    .colab-df-convert {\n",
              "      background-color: #E8F0FE;\n",
              "      border: none;\n",
              "      border-radius: 50%;\n",
              "      cursor: pointer;\n",
              "      display: none;\n",
              "      fill: #1967D2;\n",
              "      height: 32px;\n",
              "      padding: 0 0 0 0;\n",
              "      width: 32px;\n",
              "    }\n",
              "\n",
              "    .colab-df-convert:hover {\n",
              "      background-color: #E2EBFA;\n",
              "      box-shadow: 0px 1px 2px rgba(60, 64, 67, 0.3), 0px 1px 3px 1px rgba(60, 64, 67, 0.15);\n",
              "      fill: #174EA6;\n",
              "    }\n",
              "\n",
              "    [theme=dark] .colab-df-convert {\n",
              "      background-color: #3B4455;\n",
              "      fill: #D2E3FC;\n",
              "    }\n",
              "\n",
              "    [theme=dark] .colab-df-convert:hover {\n",
              "      background-color: #434B5C;\n",
              "      box-shadow: 0px 1px 3px 1px rgba(0, 0, 0, 0.15);\n",
              "      filter: drop-shadow(0px 1px 2px rgba(0, 0, 0, 0.3));\n",
              "      fill: #FFFFFF;\n",
              "    }\n",
              "  </style>\n",
              "\n",
              "      <script>\n",
              "        const buttonEl =\n",
              "          document.querySelector('#df-55751bf6-3351-4364-a94f-b743bc99bf07 button.colab-df-convert');\n",
              "        buttonEl.style.display =\n",
              "          google.colab.kernel.accessAllowed ? 'block' : 'none';\n",
              "\n",
              "        async function convertToInteractive(key) {\n",
              "          const element = document.querySelector('#df-55751bf6-3351-4364-a94f-b743bc99bf07');\n",
              "          const dataTable =\n",
              "            await google.colab.kernel.invokeFunction('convertToInteractive',\n",
              "                                                     [key], {});\n",
              "          if (!dataTable) return;\n",
              "\n",
              "          const docLinkHtml = 'Like what you see? Visit the ' +\n",
              "            '<a target=\"_blank\" href=https://colab.research.google.com/notebooks/data_table.ipynb>data table notebook</a>'\n",
              "            + ' to learn more about interactive tables.';\n",
              "          element.innerHTML = '';\n",
              "          dataTable['output_type'] = 'display_data';\n",
              "          await google.colab.output.renderOutput(dataTable, element);\n",
              "          const docLink = document.createElement('div');\n",
              "          docLink.innerHTML = docLinkHtml;\n",
              "          element.appendChild(docLink);\n",
              "        }\n",
              "      </script>\n",
              "    </div>\n",
              "  </div>\n"
            ]
          },
          "metadata": {},
          "execution_count": 5
        }
      ],
      "source": [
        "loan_ds = pd.read_csv('/content/loan_data.csv')\n",
        "loan_ds.head()"
      ],
      "id": "84fdeb45"
    },
    {
      "cell_type": "code",
      "execution_count": null,
      "metadata": {
        "colab": {
          "base_uri": "https://localhost:8080/"
        },
        "id": "ea80e0ef",
        "outputId": "89ebf482-8bc9-425b-8eeb-9fa617c898f3"
      },
      "outputs": [
        {
          "output_type": "stream",
          "name": "stdout",
          "text": [
            "(23282, 120) (23282,)\n"
          ]
        }
      ],
      "source": [
        "target=loan_ds[\"TARGET\"]\n",
        "data=loan_ds.drop(columns=[\"TARGET\",\"SK_ID_CURR\"])\n",
        "print(data.shape,target.shape)"
      ],
      "id": "ea80e0ef"
    },
    {
      "cell_type": "markdown",
      "metadata": {
        "id": "19e962f2"
      },
      "source": [
        "### Check for null values in the dataset"
      ],
      "id": "19e962f2"
    },
    {
      "cell_type": "code",
      "execution_count": null,
      "metadata": {
        "id": "4df9d3b9"
      },
      "outputs": [],
      "source": [
        "def check_missing_data(df):\n",
        "    missing_cols=[]\n",
        "    for i in df.columns:\n",
        "        percent=df[i].isnull().mean()\n",
        "        if percent !=0:\n",
        "            missing_cols.append(i)\n",
        "    if len(missing_cols)==0:\n",
        "        print('no columns with missing value')\n",
        "    else:\n",
        "        print('number of columns with missing value : ',len(missing_cols))\n",
        "        return missing_cols"
      ],
      "id": "4df9d3b9"
    },
    {
      "cell_type": "code",
      "execution_count": null,
      "metadata": {
        "colab": {
          "base_uri": "https://localhost:8080/"
        },
        "id": "1ac70b40",
        "outputId": "106ee582-0cb8-4a21-bb85-d284af3b17ea"
      },
      "outputs": [
        {
          "output_type": "stream",
          "name": "stdout",
          "text": [
            "number of columns with missing value :  103\n"
          ]
        },
        {
          "output_type": "execute_result",
          "data": {
            "text/plain": [
              "['AMT_GOODS_PRICE',\n",
              " 'NAME_TYPE_SUITE',\n",
              " 'OWN_CAR_AGE',\n",
              " 'FLAG_MOBIL',\n",
              " 'FLAG_EMP_PHONE',\n",
              " 'FLAG_WORK_PHONE',\n",
              " 'FLAG_CONT_MOBILE',\n",
              " 'FLAG_PHONE',\n",
              " 'FLAG_EMAIL',\n",
              " 'OCCUPATION_TYPE',\n",
              " 'CNT_FAM_MEMBERS',\n",
              " 'REGION_RATING_CLIENT',\n",
              " 'REGION_RATING_CLIENT_W_CITY',\n",
              " 'WEEKDAY_APPR_PROCESS_START',\n",
              " 'HOUR_APPR_PROCESS_START',\n",
              " 'REG_REGION_NOT_LIVE_REGION',\n",
              " 'REG_REGION_NOT_WORK_REGION',\n",
              " 'LIVE_REGION_NOT_WORK_REGION',\n",
              " 'REG_CITY_NOT_LIVE_CITY',\n",
              " 'REG_CITY_NOT_WORK_CITY',\n",
              " 'LIVE_CITY_NOT_WORK_CITY',\n",
              " 'ORGANIZATION_TYPE',\n",
              " 'EXT_SOURCE_1',\n",
              " 'EXT_SOURCE_2',\n",
              " 'EXT_SOURCE_3',\n",
              " 'APARTMENTS_AVG',\n",
              " 'BASEMENTAREA_AVG',\n",
              " 'YEARS_BEGINEXPLUATATION_AVG',\n",
              " 'YEARS_BUILD_AVG',\n",
              " 'COMMONAREA_AVG',\n",
              " 'ELEVATORS_AVG',\n",
              " 'ENTRANCES_AVG',\n",
              " 'FLOORSMAX_AVG',\n",
              " 'FLOORSMIN_AVG',\n",
              " 'LANDAREA_AVG',\n",
              " 'LIVINGAPARTMENTS_AVG',\n",
              " 'LIVINGAREA_AVG',\n",
              " 'NONLIVINGAPARTMENTS_AVG',\n",
              " 'NONLIVINGAREA_AVG',\n",
              " 'APARTMENTS_MODE',\n",
              " 'BASEMENTAREA_MODE',\n",
              " 'YEARS_BEGINEXPLUATATION_MODE',\n",
              " 'YEARS_BUILD_MODE',\n",
              " 'COMMONAREA_MODE',\n",
              " 'ELEVATORS_MODE',\n",
              " 'ENTRANCES_MODE',\n",
              " 'FLOORSMAX_MODE',\n",
              " 'FLOORSMIN_MODE',\n",
              " 'LANDAREA_MODE',\n",
              " 'LIVINGAPARTMENTS_MODE',\n",
              " 'LIVINGAREA_MODE',\n",
              " 'NONLIVINGAPARTMENTS_MODE',\n",
              " 'NONLIVINGAREA_MODE',\n",
              " 'APARTMENTS_MEDI',\n",
              " 'BASEMENTAREA_MEDI',\n",
              " 'YEARS_BEGINEXPLUATATION_MEDI',\n",
              " 'YEARS_BUILD_MEDI',\n",
              " 'COMMONAREA_MEDI',\n",
              " 'ELEVATORS_MEDI',\n",
              " 'ENTRANCES_MEDI',\n",
              " 'FLOORSMAX_MEDI',\n",
              " 'FLOORSMIN_MEDI',\n",
              " 'LANDAREA_MEDI',\n",
              " 'LIVINGAPARTMENTS_MEDI',\n",
              " 'LIVINGAREA_MEDI',\n",
              " 'NONLIVINGAPARTMENTS_MEDI',\n",
              " 'NONLIVINGAREA_MEDI',\n",
              " 'FONDKAPREMONT_MODE',\n",
              " 'HOUSETYPE_MODE',\n",
              " 'TOTALAREA_MODE',\n",
              " 'WALLSMATERIAL_MODE',\n",
              " 'EMERGENCYSTATE_MODE',\n",
              " 'OBS_30_CNT_SOCIAL_CIRCLE',\n",
              " 'DEF_30_CNT_SOCIAL_CIRCLE',\n",
              " 'OBS_60_CNT_SOCIAL_CIRCLE',\n",
              " 'DEF_60_CNT_SOCIAL_CIRCLE',\n",
              " 'DAYS_LAST_PHONE_CHANGE',\n",
              " 'FLAG_DOCUMENT_2',\n",
              " 'FLAG_DOCUMENT_3',\n",
              " 'FLAG_DOCUMENT_4',\n",
              " 'FLAG_DOCUMENT_5',\n",
              " 'FLAG_DOCUMENT_6',\n",
              " 'FLAG_DOCUMENT_7',\n",
              " 'FLAG_DOCUMENT_8',\n",
              " 'FLAG_DOCUMENT_9',\n",
              " 'FLAG_DOCUMENT_10',\n",
              " 'FLAG_DOCUMENT_11',\n",
              " 'FLAG_DOCUMENT_12',\n",
              " 'FLAG_DOCUMENT_13',\n",
              " 'FLAG_DOCUMENT_14',\n",
              " 'FLAG_DOCUMENT_15',\n",
              " 'FLAG_DOCUMENT_16',\n",
              " 'FLAG_DOCUMENT_17',\n",
              " 'FLAG_DOCUMENT_18',\n",
              " 'FLAG_DOCUMENT_19',\n",
              " 'FLAG_DOCUMENT_20',\n",
              " 'FLAG_DOCUMENT_21',\n",
              " 'AMT_REQ_CREDIT_BUREAU_HOUR',\n",
              " 'AMT_REQ_CREDIT_BUREAU_DAY',\n",
              " 'AMT_REQ_CREDIT_BUREAU_WEEK',\n",
              " 'AMT_REQ_CREDIT_BUREAU_MON',\n",
              " 'AMT_REQ_CREDIT_BUREAU_QRT',\n",
              " 'AMT_REQ_CREDIT_BUREAU_YEAR']"
            ]
          },
          "metadata": {},
          "execution_count": 8
        }
      ],
      "source": [
        "check_missing_data(loan_ds)"
      ],
      "id": "1ac70b40"
    },
    {
      "cell_type": "code",
      "execution_count": null,
      "metadata": {
        "id": "7b16aba9"
      },
      "outputs": [],
      "source": [
        "#seperating categorical and non-categorical columns\n",
        "categ_col=[x for x in data if data[x].dtype=='O']\n",
        "non_categorical=data.drop(columns=categ_col)\n",
        "categorical=data[categ_col]"
      ],
      "id": "7b16aba9"
    },
    {
      "cell_type": "code",
      "execution_count": null,
      "metadata": {
        "colab": {
          "base_uri": "https://localhost:8080/",
          "height": 609
        },
        "id": "7fd5f47e",
        "outputId": "8da49472-16fb-4d8c-eccd-d55680c4fb8d"
      },
      "outputs": [
        {
          "output_type": "execute_result",
          "data": {
            "text/plain": [
              "      NAME_CONTRACT_TYPE CODE_GENDER FLAG_OWN_CAR FLAG_OWN_REALTY  \\\n",
              "0             Cash loans           M            N               Y   \n",
              "1             Cash loans           F            N               N   \n",
              "2        Revolving loans           M            Y               Y   \n",
              "3             Cash loans           F            N               Y   \n",
              "4             Cash loans           M            N               Y   \n",
              "...                  ...         ...          ...             ...   \n",
              "23277         Cash loans           M            N               Y   \n",
              "23278         Cash loans           F            N               N   \n",
              "23279         Cash loans           F            N               N   \n",
              "23280         Cash loans           F            N               Y   \n",
              "23281         Cash loans           F            Y               N   \n",
              "\n",
              "      NAME_TYPE_SUITE      NAME_INCOME_TYPE            NAME_EDUCATION_TYPE  \\\n",
              "0       Unaccompanied               Working  Secondary / secondary special   \n",
              "1              Family         State servant               Higher education   \n",
              "2       Unaccompanied               Working  Secondary / secondary special   \n",
              "3       Unaccompanied               Working  Secondary / secondary special   \n",
              "4       Unaccompanied               Working  Secondary / secondary special   \n",
              "...               ...                   ...                            ...   \n",
              "23277   Unaccompanied  Commercial associate  Secondary / secondary special   \n",
              "23278   Unaccompanied               Working               Higher education   \n",
              "23279   Unaccompanied               Working              Incomplete higher   \n",
              "23280   Unaccompanied  Commercial associate  Secondary / secondary special   \n",
              "23281   Unaccompanied             Pensioner               Higher education   \n",
              "\n",
              "         NAME_FAMILY_STATUS  NAME_HOUSING_TYPE        OCCUPATION_TYPE  \\\n",
              "0      Single / not married  House / apartment               Laborers   \n",
              "1                   Married  House / apartment             Core staff   \n",
              "2      Single / not married  House / apartment               Laborers   \n",
              "3            Civil marriage  House / apartment               Laborers   \n",
              "4      Single / not married  House / apartment             Core staff   \n",
              "...                     ...                ...                    ...   \n",
              "23277               Married  House / apartment          Realty agents   \n",
              "23278               Married  House / apartment               Laborers   \n",
              "23279               Married       With parents  High skill tech staff   \n",
              "23280        Civil marriage  House / apartment               Managers   \n",
              "23281               Married  House / apartment                    NaN   \n",
              "\n",
              "      WEEKDAY_APPR_PROCESS_START       ORGANIZATION_TYPE FONDKAPREMONT_MODE  \\\n",
              "0                      WEDNESDAY  Business Entity Type 3   reg oper account   \n",
              "1                         MONDAY                  School   reg oper account   \n",
              "2                         MONDAY              Government                NaN   \n",
              "3                      WEDNESDAY  Business Entity Type 3                NaN   \n",
              "4                       THURSDAY                Religion                NaN   \n",
              "...                          ...                     ...                ...   \n",
              "23277                  WEDNESDAY           Self-employed                NaN   \n",
              "23278                     FRIDAY           Self-employed                NaN   \n",
              "23279                    TUESDAY                   Other   reg oper account   \n",
              "23280                     FRIDAY           Self-employed                NaN   \n",
              "23281                        NaN                     NaN                NaN   \n",
              "\n",
              "       HOUSETYPE_MODE WALLSMATERIAL_MODE EMERGENCYSTATE_MODE  \n",
              "0      block of flats       Stone, brick                  No  \n",
              "1      block of flats              Block                  No  \n",
              "2                 NaN                NaN                 NaN  \n",
              "3                 NaN                NaN                 NaN  \n",
              "4                 NaN                NaN                 NaN  \n",
              "...               ...                ...                 ...  \n",
              "23277             NaN                NaN                 NaN  \n",
              "23278             NaN                NaN                 NaN  \n",
              "23279  block of flats              Panel                  No  \n",
              "23280             NaN                NaN                 NaN  \n",
              "23281             NaN                NaN                 NaN  \n",
              "\n",
              "[23282 rows x 16 columns]"
            ],
            "text/html": [
              "\n",
              "\n",
              "  <div id=\"df-7ff0055b-5b5a-4ceb-90ea-344336842d50\">\n",
              "    <div class=\"colab-df-container\">\n",
              "      <div>\n",
              "<style scoped>\n",
              "    .dataframe tbody tr th:only-of-type {\n",
              "        vertical-align: middle;\n",
              "    }\n",
              "\n",
              "    .dataframe tbody tr th {\n",
              "        vertical-align: top;\n",
              "    }\n",
              "\n",
              "    .dataframe thead th {\n",
              "        text-align: right;\n",
              "    }\n",
              "</style>\n",
              "<table border=\"1\" class=\"dataframe\">\n",
              "  <thead>\n",
              "    <tr style=\"text-align: right;\">\n",
              "      <th></th>\n",
              "      <th>NAME_CONTRACT_TYPE</th>\n",
              "      <th>CODE_GENDER</th>\n",
              "      <th>FLAG_OWN_CAR</th>\n",
              "      <th>FLAG_OWN_REALTY</th>\n",
              "      <th>NAME_TYPE_SUITE</th>\n",
              "      <th>NAME_INCOME_TYPE</th>\n",
              "      <th>NAME_EDUCATION_TYPE</th>\n",
              "      <th>NAME_FAMILY_STATUS</th>\n",
              "      <th>NAME_HOUSING_TYPE</th>\n",
              "      <th>OCCUPATION_TYPE</th>\n",
              "      <th>WEEKDAY_APPR_PROCESS_START</th>\n",
              "      <th>ORGANIZATION_TYPE</th>\n",
              "      <th>FONDKAPREMONT_MODE</th>\n",
              "      <th>HOUSETYPE_MODE</th>\n",
              "      <th>WALLSMATERIAL_MODE</th>\n",
              "      <th>EMERGENCYSTATE_MODE</th>\n",
              "    </tr>\n",
              "  </thead>\n",
              "  <tbody>\n",
              "    <tr>\n",
              "      <th>0</th>\n",
              "      <td>Cash loans</td>\n",
              "      <td>M</td>\n",
              "      <td>N</td>\n",
              "      <td>Y</td>\n",
              "      <td>Unaccompanied</td>\n",
              "      <td>Working</td>\n",
              "      <td>Secondary / secondary special</td>\n",
              "      <td>Single / not married</td>\n",
              "      <td>House / apartment</td>\n",
              "      <td>Laborers</td>\n",
              "      <td>WEDNESDAY</td>\n",
              "      <td>Business Entity Type 3</td>\n",
              "      <td>reg oper account</td>\n",
              "      <td>block of flats</td>\n",
              "      <td>Stone, brick</td>\n",
              "      <td>No</td>\n",
              "    </tr>\n",
              "    <tr>\n",
              "      <th>1</th>\n",
              "      <td>Cash loans</td>\n",
              "      <td>F</td>\n",
              "      <td>N</td>\n",
              "      <td>N</td>\n",
              "      <td>Family</td>\n",
              "      <td>State servant</td>\n",
              "      <td>Higher education</td>\n",
              "      <td>Married</td>\n",
              "      <td>House / apartment</td>\n",
              "      <td>Core staff</td>\n",
              "      <td>MONDAY</td>\n",
              "      <td>School</td>\n",
              "      <td>reg oper account</td>\n",
              "      <td>block of flats</td>\n",
              "      <td>Block</td>\n",
              "      <td>No</td>\n",
              "    </tr>\n",
              "    <tr>\n",
              "      <th>2</th>\n",
              "      <td>Revolving loans</td>\n",
              "      <td>M</td>\n",
              "      <td>Y</td>\n",
              "      <td>Y</td>\n",
              "      <td>Unaccompanied</td>\n",
              "      <td>Working</td>\n",
              "      <td>Secondary / secondary special</td>\n",
              "      <td>Single / not married</td>\n",
              "      <td>House / apartment</td>\n",
              "      <td>Laborers</td>\n",
              "      <td>MONDAY</td>\n",
              "      <td>Government</td>\n",
              "      <td>NaN</td>\n",
              "      <td>NaN</td>\n",
              "      <td>NaN</td>\n",
              "      <td>NaN</td>\n",
              "    </tr>\n",
              "    <tr>\n",
              "      <th>3</th>\n",
              "      <td>Cash loans</td>\n",
              "      <td>F</td>\n",
              "      <td>N</td>\n",
              "      <td>Y</td>\n",
              "      <td>Unaccompanied</td>\n",
              "      <td>Working</td>\n",
              "      <td>Secondary / secondary special</td>\n",
              "      <td>Civil marriage</td>\n",
              "      <td>House / apartment</td>\n",
              "      <td>Laborers</td>\n",
              "      <td>WEDNESDAY</td>\n",
              "      <td>Business Entity Type 3</td>\n",
              "      <td>NaN</td>\n",
              "      <td>NaN</td>\n",
              "      <td>NaN</td>\n",
              "      <td>NaN</td>\n",
              "    </tr>\n",
              "    <tr>\n",
              "      <th>4</th>\n",
              "      <td>Cash loans</td>\n",
              "      <td>M</td>\n",
              "      <td>N</td>\n",
              "      <td>Y</td>\n",
              "      <td>Unaccompanied</td>\n",
              "      <td>Working</td>\n",
              "      <td>Secondary / secondary special</td>\n",
              "      <td>Single / not married</td>\n",
              "      <td>House / apartment</td>\n",
              "      <td>Core staff</td>\n",
              "      <td>THURSDAY</td>\n",
              "      <td>Religion</td>\n",
              "      <td>NaN</td>\n",
              "      <td>NaN</td>\n",
              "      <td>NaN</td>\n",
              "      <td>NaN</td>\n",
              "    </tr>\n",
              "    <tr>\n",
              "      <th>...</th>\n",
              "      <td>...</td>\n",
              "      <td>...</td>\n",
              "      <td>...</td>\n",
              "      <td>...</td>\n",
              "      <td>...</td>\n",
              "      <td>...</td>\n",
              "      <td>...</td>\n",
              "      <td>...</td>\n",
              "      <td>...</td>\n",
              "      <td>...</td>\n",
              "      <td>...</td>\n",
              "      <td>...</td>\n",
              "      <td>...</td>\n",
              "      <td>...</td>\n",
              "      <td>...</td>\n",
              "      <td>...</td>\n",
              "    </tr>\n",
              "    <tr>\n",
              "      <th>23277</th>\n",
              "      <td>Cash loans</td>\n",
              "      <td>M</td>\n",
              "      <td>N</td>\n",
              "      <td>Y</td>\n",
              "      <td>Unaccompanied</td>\n",
              "      <td>Commercial associate</td>\n",
              "      <td>Secondary / secondary special</td>\n",
              "      <td>Married</td>\n",
              "      <td>House / apartment</td>\n",
              "      <td>Realty agents</td>\n",
              "      <td>WEDNESDAY</td>\n",
              "      <td>Self-employed</td>\n",
              "      <td>NaN</td>\n",
              "      <td>NaN</td>\n",
              "      <td>NaN</td>\n",
              "      <td>NaN</td>\n",
              "    </tr>\n",
              "    <tr>\n",
              "      <th>23278</th>\n",
              "      <td>Cash loans</td>\n",
              "      <td>F</td>\n",
              "      <td>N</td>\n",
              "      <td>N</td>\n",
              "      <td>Unaccompanied</td>\n",
              "      <td>Working</td>\n",
              "      <td>Higher education</td>\n",
              "      <td>Married</td>\n",
              "      <td>House / apartment</td>\n",
              "      <td>Laborers</td>\n",
              "      <td>FRIDAY</td>\n",
              "      <td>Self-employed</td>\n",
              "      <td>NaN</td>\n",
              "      <td>NaN</td>\n",
              "      <td>NaN</td>\n",
              "      <td>NaN</td>\n",
              "    </tr>\n",
              "    <tr>\n",
              "      <th>23279</th>\n",
              "      <td>Cash loans</td>\n",
              "      <td>F</td>\n",
              "      <td>N</td>\n",
              "      <td>N</td>\n",
              "      <td>Unaccompanied</td>\n",
              "      <td>Working</td>\n",
              "      <td>Incomplete higher</td>\n",
              "      <td>Married</td>\n",
              "      <td>With parents</td>\n",
              "      <td>High skill tech staff</td>\n",
              "      <td>TUESDAY</td>\n",
              "      <td>Other</td>\n",
              "      <td>reg oper account</td>\n",
              "      <td>block of flats</td>\n",
              "      <td>Panel</td>\n",
              "      <td>No</td>\n",
              "    </tr>\n",
              "    <tr>\n",
              "      <th>23280</th>\n",
              "      <td>Cash loans</td>\n",
              "      <td>F</td>\n",
              "      <td>N</td>\n",
              "      <td>Y</td>\n",
              "      <td>Unaccompanied</td>\n",
              "      <td>Commercial associate</td>\n",
              "      <td>Secondary / secondary special</td>\n",
              "      <td>Civil marriage</td>\n",
              "      <td>House / apartment</td>\n",
              "      <td>Managers</td>\n",
              "      <td>FRIDAY</td>\n",
              "      <td>Self-employed</td>\n",
              "      <td>NaN</td>\n",
              "      <td>NaN</td>\n",
              "      <td>NaN</td>\n",
              "      <td>NaN</td>\n",
              "    </tr>\n",
              "    <tr>\n",
              "      <th>23281</th>\n",
              "      <td>Cash loans</td>\n",
              "      <td>F</td>\n",
              "      <td>Y</td>\n",
              "      <td>N</td>\n",
              "      <td>Unaccompanied</td>\n",
              "      <td>Pensioner</td>\n",
              "      <td>Higher education</td>\n",
              "      <td>Married</td>\n",
              "      <td>House / apartment</td>\n",
              "      <td>NaN</td>\n",
              "      <td>NaN</td>\n",
              "      <td>NaN</td>\n",
              "      <td>NaN</td>\n",
              "      <td>NaN</td>\n",
              "      <td>NaN</td>\n",
              "      <td>NaN</td>\n",
              "    </tr>\n",
              "  </tbody>\n",
              "</table>\n",
              "<p>23282 rows × 16 columns</p>\n",
              "</div>\n",
              "      <button class=\"colab-df-convert\" onclick=\"convertToInteractive('df-7ff0055b-5b5a-4ceb-90ea-344336842d50')\"\n",
              "              title=\"Convert this dataframe to an interactive table.\"\n",
              "              style=\"display:none;\">\n",
              "\n",
              "  <svg xmlns=\"http://www.w3.org/2000/svg\" height=\"24px\"viewBox=\"0 0 24 24\"\n",
              "       width=\"24px\">\n",
              "    <path d=\"M0 0h24v24H0V0z\" fill=\"none\"/>\n",
              "    <path d=\"M18.56 5.44l.94 2.06.94-2.06 2.06-.94-2.06-.94-.94-2.06-.94 2.06-2.06.94zm-11 1L8.5 8.5l.94-2.06 2.06-.94-2.06-.94L8.5 2.5l-.94 2.06-2.06.94zm10 10l.94 2.06.94-2.06 2.06-.94-2.06-.94-.94-2.06-.94 2.06-2.06.94z\"/><path d=\"M17.41 7.96l-1.37-1.37c-.4-.4-.92-.59-1.43-.59-.52 0-1.04.2-1.43.59L10.3 9.45l-7.72 7.72c-.78.78-.78 2.05 0 2.83L4 21.41c.39.39.9.59 1.41.59.51 0 1.02-.2 1.41-.59l7.78-7.78 2.81-2.81c.8-.78.8-2.07 0-2.86zM5.41 20L4 18.59l7.72-7.72 1.47 1.35L5.41 20z\"/>\n",
              "  </svg>\n",
              "      </button>\n",
              "\n",
              "\n",
              "\n",
              "    <div id=\"df-0b2dbede-84de-4407-889b-41cc739bb739\">\n",
              "      <button class=\"colab-df-quickchart\" onclick=\"quickchart('df-0b2dbede-84de-4407-889b-41cc739bb739')\"\n",
              "              title=\"Suggest charts.\"\n",
              "              style=\"display:none;\">\n",
              "\n",
              "<svg xmlns=\"http://www.w3.org/2000/svg\" height=\"24px\"viewBox=\"0 0 24 24\"\n",
              "     width=\"24px\">\n",
              "    <g>\n",
              "        <path d=\"M19 3H5c-1.1 0-2 .9-2 2v14c0 1.1.9 2 2 2h14c1.1 0 2-.9 2-2V5c0-1.1-.9-2-2-2zM9 17H7v-7h2v7zm4 0h-2V7h2v10zm4 0h-2v-4h2v4z\"/>\n",
              "    </g>\n",
              "</svg>\n",
              "      </button>\n",
              "    </div>\n",
              "\n",
              "<style>\n",
              "  .colab-df-quickchart {\n",
              "    background-color: #E8F0FE;\n",
              "    border: none;\n",
              "    border-radius: 50%;\n",
              "    cursor: pointer;\n",
              "    display: none;\n",
              "    fill: #1967D2;\n",
              "    height: 32px;\n",
              "    padding: 0 0 0 0;\n",
              "    width: 32px;\n",
              "  }\n",
              "\n",
              "  .colab-df-quickchart:hover {\n",
              "    background-color: #E2EBFA;\n",
              "    box-shadow: 0px 1px 2px rgba(60, 64, 67, 0.3), 0px 1px 3px 1px rgba(60, 64, 67, 0.15);\n",
              "    fill: #174EA6;\n",
              "  }\n",
              "\n",
              "  [theme=dark] .colab-df-quickchart {\n",
              "    background-color: #3B4455;\n",
              "    fill: #D2E3FC;\n",
              "  }\n",
              "\n",
              "  [theme=dark] .colab-df-quickchart:hover {\n",
              "    background-color: #434B5C;\n",
              "    box-shadow: 0px 1px 3px 1px rgba(0, 0, 0, 0.15);\n",
              "    filter: drop-shadow(0px 1px 2px rgba(0, 0, 0, 0.3));\n",
              "    fill: #FFFFFF;\n",
              "  }\n",
              "</style>\n",
              "\n",
              "    <script>\n",
              "      async function quickchart(key) {\n",
              "        const containerElement = document.querySelector('#' + key);\n",
              "        const charts = await google.colab.kernel.invokeFunction(\n",
              "            'suggestCharts', [key], {});\n",
              "      }\n",
              "    </script>\n",
              "\n",
              "      <script>\n",
              "\n",
              "function displayQuickchartButton(domScope) {\n",
              "  let quickchartButtonEl =\n",
              "    domScope.querySelector('#df-0b2dbede-84de-4407-889b-41cc739bb739 button.colab-df-quickchart');\n",
              "  quickchartButtonEl.style.display =\n",
              "    google.colab.kernel.accessAllowed ? 'block' : 'none';\n",
              "}\n",
              "\n",
              "        displayQuickchartButton(document);\n",
              "      </script>\n",
              "      <style>\n",
              "    .colab-df-container {\n",
              "      display:flex;\n",
              "      flex-wrap:wrap;\n",
              "      gap: 12px;\n",
              "    }\n",
              "\n",
              "    .colab-df-convert {\n",
              "      background-color: #E8F0FE;\n",
              "      border: none;\n",
              "      border-radius: 50%;\n",
              "      cursor: pointer;\n",
              "      display: none;\n",
              "      fill: #1967D2;\n",
              "      height: 32px;\n",
              "      padding: 0 0 0 0;\n",
              "      width: 32px;\n",
              "    }\n",
              "\n",
              "    .colab-df-convert:hover {\n",
              "      background-color: #E2EBFA;\n",
              "      box-shadow: 0px 1px 2px rgba(60, 64, 67, 0.3), 0px 1px 3px 1px rgba(60, 64, 67, 0.15);\n",
              "      fill: #174EA6;\n",
              "    }\n",
              "\n",
              "    [theme=dark] .colab-df-convert {\n",
              "      background-color: #3B4455;\n",
              "      fill: #D2E3FC;\n",
              "    }\n",
              "\n",
              "    [theme=dark] .colab-df-convert:hover {\n",
              "      background-color: #434B5C;\n",
              "      box-shadow: 0px 1px 3px 1px rgba(0, 0, 0, 0.15);\n",
              "      filter: drop-shadow(0px 1px 2px rgba(0, 0, 0, 0.3));\n",
              "      fill: #FFFFFF;\n",
              "    }\n",
              "  </style>\n",
              "\n",
              "      <script>\n",
              "        const buttonEl =\n",
              "          document.querySelector('#df-7ff0055b-5b5a-4ceb-90ea-344336842d50 button.colab-df-convert');\n",
              "        buttonEl.style.display =\n",
              "          google.colab.kernel.accessAllowed ? 'block' : 'none';\n",
              "\n",
              "        async function convertToInteractive(key) {\n",
              "          const element = document.querySelector('#df-7ff0055b-5b5a-4ceb-90ea-344336842d50');\n",
              "          const dataTable =\n",
              "            await google.colab.kernel.invokeFunction('convertToInteractive',\n",
              "                                                     [key], {});\n",
              "          if (!dataTable) return;\n",
              "\n",
              "          const docLinkHtml = 'Like what you see? Visit the ' +\n",
              "            '<a target=\"_blank\" href=https://colab.research.google.com/notebooks/data_table.ipynb>data table notebook</a>'\n",
              "            + ' to learn more about interactive tables.';\n",
              "          element.innerHTML = '';\n",
              "          dataTable['output_type'] = 'display_data';\n",
              "          await google.colab.output.renderOutput(dataTable, element);\n",
              "          const docLink = document.createElement('div');\n",
              "          docLink.innerHTML = docLinkHtml;\n",
              "          element.appendChild(docLink);\n",
              "        }\n",
              "      </script>\n",
              "    </div>\n",
              "  </div>\n"
            ]
          },
          "metadata": {},
          "execution_count": 10
        }
      ],
      "source": [
        "categorical"
      ],
      "id": "7fd5f47e"
    },
    {
      "cell_type": "code",
      "execution_count": null,
      "metadata": {
        "id": "36d3ee9f"
      },
      "outputs": [],
      "source": [
        "#handling missing values\n",
        "#non_categorical=non_categorical.interpolate(method='linear')\n",
        "def input_missing_value(df):\n",
        "    try:\n",
        "        for column in df.columns:\n",
        "            i=df.columns.get_loc(column)\n",
        "            df.iloc[:,i].fillna(df[column].mode()[0],inplace=True)\n",
        "    except:\n",
        "        pass\n",
        "\n",
        "input_missing_value(categorical)\n",
        "input_missing_value(non_categorical)"
      ],
      "id": "36d3ee9f"
    },
    {
      "cell_type": "code",
      "execution_count": null,
      "metadata": {
        "colab": {
          "base_uri": "https://localhost:8080/"
        },
        "id": "53d42459",
        "outputId": "071675aa-56dc-4dc9-c80a-5b9dbcc8ed47"
      },
      "outputs": [
        {
          "output_type": "stream",
          "name": "stdout",
          "text": [
            "no columns with missing value\n",
            "no columns with missing value\n"
          ]
        }
      ],
      "source": [
        "check_missing_data(non_categorical)\n",
        "check_missing_data(categorical)"
      ],
      "id": "53d42459"
    },
    {
      "cell_type": "markdown",
      "metadata": {
        "id": "4bec3b3c"
      },
      "source": [
        "### Print the percentage of default to payer of the dataset for the target column"
      ],
      "id": "4bec3b3c"
    },
    {
      "cell_type": "code",
      "execution_count": null,
      "metadata": {
        "colab": {
          "base_uri": "https://localhost:8080/",
          "height": 460
        },
        "id": "38abe9a6",
        "outputId": "88edf78d-2f75-4a06-a191-e41b1f8ca018"
      },
      "outputs": [
        {
          "output_type": "stream",
          "name": "stdout",
          "text": [
            "Percentage of defaulters  92.02\n"
          ]
        },
        {
          "output_type": "execute_result",
          "data": {
            "text/plain": [
              "<Axes: >"
            ]
          },
          "metadata": {},
          "execution_count": 13
        },
        {
          "output_type": "display_data",
          "data": {
            "text/plain": [
              "<Figure size 640x480 with 1 Axes>"
            ],
            "image/png": "[encoded data removed]"
          },
          "metadata": {}
        }
      ],
      "source": [
        "#checking for percentage of defaulters and non-defaulters\n",
        "defaulters=loan_ds.TARGET.value_counts()[0]\n",
        "non_defaulters=loan_ds.TARGET.value_counts()[1]\n",
        "fraction_of_defaulters=defaulters/(defaulters + non_defaulters)\n",
        "percentage_of_defaulters = round((fraction_of_defaulters * 100),2)\n",
        "print('Percentage of defaulters ', percentage_of_defaulters)\n",
        "loan_ds.TARGET.value_counts().plot.bar()"
      ],
      "id": "38abe9a6"
    },
    {
      "cell_type": "code",
      "execution_count": null,
      "metadata": {
        "colab": {
          "base_uri": "https://localhost:8080/"
        },
        "id": "7deee653",
        "outputId": "0262ac91-ef7c-4041-92b8-c344958d44ab"
      },
      "outputs": [
        {
          "output_type": "stream",
          "name": "stdout",
          "text": [
            "NAME_CONTRACT_TYPE\n",
            "CODE_GENDER\n",
            "FLAG_OWN_CAR\n",
            "FLAG_OWN_REALTY\n",
            "NAME_TYPE_SUITE\n",
            "NAME_INCOME_TYPE\n",
            "NAME_EDUCATION_TYPE\n",
            "NAME_FAMILY_STATUS\n",
            "NAME_HOUSING_TYPE\n",
            "OCCUPATION_TYPE\n",
            "WEEKDAY_APPR_PROCESS_START\n",
            "ORGANIZATION_TYPE\n",
            "FONDKAPREMONT_MODE\n",
            "HOUSETYPE_MODE\n",
            "WALLSMATERIAL_MODE\n",
            "EMERGENCYSTATE_MODE\n"
          ]
        },
        {
          "output_type": "stream",
          "name": "stderr",
          "text": [
            "<ipython-input-14-3d8af6a2b827>:5: SettingWithCopyWarning: \n",
            "A value is trying to be set on a copy of a slice from a DataFrame.\n",
            "Try using .loc[row_indexer,col_indexer] = value instead\n",
            "\n",
            "See the caveats in the documentation: https://pandas.pydata.org/pandas-docs/stable/user_guide/indexing.html#returning-a-view-versus-a-copy\n",
            "  categorical[i]=le.fit_transform(categorical[i])\n",
            "<ipython-input-14-3d8af6a2b827>:5: SettingWithCopyWarning: \n",
            "A value is trying to be set on a copy of a slice from a DataFrame.\n",
            "Try using .loc[row_indexer,col_indexer] = value instead\n",
            "\n",
            "See the caveats in the documentation: https://pandas.pydata.org/pandas-docs/stable/user_guide/indexing.html#returning-a-view-versus-a-copy\n",
            "  categorical[i]=le.fit_transform(categorical[i])\n",
            "<ipython-input-14-3d8af6a2b827>:5: SettingWithCopyWarning: \n",
            "A value is trying to be set on a copy of a slice from a DataFrame.\n",
            "Try using .loc[row_indexer,col_indexer] = value instead\n",
            "\n",
            "See the caveats in the documentation: https://pandas.pydata.org/pandas-docs/stable/user_guide/indexing.html#returning-a-view-versus-a-copy\n",
            "  categorical[i]=le.fit_transform(categorical[i])\n",
            "<ipython-input-14-3d8af6a2b827>:5: SettingWithCopyWarning: \n",
            "A value is trying to be set on a copy of a slice from a DataFrame.\n",
            "Try using .loc[row_indexer,col_indexer] = value instead\n",
            "\n",
            "See the caveats in the documentation: https://pandas.pydata.org/pandas-docs/stable/user_guide/indexing.html#returning-a-view-versus-a-copy\n",
            "  categorical[i]=le.fit_transform(categorical[i])\n",
            "<ipython-input-14-3d8af6a2b827>:5: SettingWithCopyWarning: \n",
            "A value is trying to be set on a copy of a slice from a DataFrame.\n",
            "Try using .loc[row_indexer,col_indexer] = value instead\n",
            "\n",
            "See the caveats in the documentation: https://pandas.pydata.org/pandas-docs/stable/user_guide/indexing.html#returning-a-view-versus-a-copy\n",
            "  categorical[i]=le.fit_transform(categorical[i])\n",
            "<ipython-input-14-3d8af6a2b827>:5: SettingWithCopyWarning: \n",
            "A value is trying to be set on a copy of a slice from a DataFrame.\n",
            "Try using .loc[row_indexer,col_indexer] = value instead\n",
            "\n",
            "See the caveats in the documentation: https://pandas.pydata.org/pandas-docs/stable/user_guide/indexing.html#returning-a-view-versus-a-copy\n",
            "  categorical[i]=le.fit_transform(categorical[i])\n",
            "<ipython-input-14-3d8af6a2b827>:5: SettingWithCopyWarning: \n",
            "A value is trying to be set on a copy of a slice from a DataFrame.\n",
            "Try using .loc[row_indexer,col_indexer] = value instead\n",
            "\n",
            "See the caveats in the documentation: https://pandas.pydata.org/pandas-docs/stable/user_guide/indexing.html#returning-a-view-versus-a-copy\n",
            "  categorical[i]=le.fit_transform(categorical[i])\n",
            "<ipython-input-14-3d8af6a2b827>:5: SettingWithCopyWarning: \n",
            "A value is trying to be set on a copy of a slice from a DataFrame.\n",
            "Try using .loc[row_indexer,col_indexer] = value instead\n",
            "\n",
            "See the caveats in the documentation: https://pandas.pydata.org/pandas-docs/stable/user_guide/indexing.html#returning-a-view-versus-a-copy\n",
            "  categorical[i]=le.fit_transform(categorical[i])\n",
            "<ipython-input-14-3d8af6a2b827>:5: SettingWithCopyWarning: \n",
            "A value is trying to be set on a copy of a slice from a DataFrame.\n",
            "Try using .loc[row_indexer,col_indexer] = value instead\n",
            "\n",
            "See the caveats in the documentation: https://pandas.pydata.org/pandas-docs/stable/user_guide/indexing.html#returning-a-view-versus-a-copy\n",
            "  categorical[i]=le.fit_transform(categorical[i])\n",
            "<ipython-input-14-3d8af6a2b827>:5: SettingWithCopyWarning: \n",
            "A value is trying to be set on a copy of a slice from a DataFrame.\n",
            "Try using .loc[row_indexer,col_indexer] = value instead\n",
            "\n",
            "See the caveats in the documentation: https://pandas.pydata.org/pandas-docs/stable/user_guide/indexing.html#returning-a-view-versus-a-copy\n",
            "  categorical[i]=le.fit_transform(categorical[i])\n",
            "<ipython-input-14-3d8af6a2b827>:5: SettingWithCopyWarning: \n",
            "A value is trying to be set on a copy of a slice from a DataFrame.\n",
            "Try using .loc[row_indexer,col_indexer] = value instead\n",
            "\n",
            "See the caveats in the documentation: https://pandas.pydata.org/pandas-docs/stable/user_guide/indexing.html#returning-a-view-versus-a-copy\n",
            "  categorical[i]=le.fit_transform(categorical[i])\n",
            "<ipython-input-14-3d8af6a2b827>:5: SettingWithCopyWarning: \n",
            "A value is trying to be set on a copy of a slice from a DataFrame.\n",
            "Try using .loc[row_indexer,col_indexer] = value instead\n",
            "\n",
            "See the caveats in the documentation: https://pandas.pydata.org/pandas-docs/stable/user_guide/indexing.html#returning-a-view-versus-a-copy\n",
            "  categorical[i]=le.fit_transform(categorical[i])\n",
            "<ipython-input-14-3d8af6a2b827>:5: SettingWithCopyWarning: \n",
            "A value is trying to be set on a copy of a slice from a DataFrame.\n",
            "Try using .loc[row_indexer,col_indexer] = value instead\n",
            "\n",
            "See the caveats in the documentation: https://pandas.pydata.org/pandas-docs/stable/user_guide/indexing.html#returning-a-view-versus-a-copy\n",
            "  categorical[i]=le.fit_transform(categorical[i])\n",
            "<ipython-input-14-3d8af6a2b827>:5: SettingWithCopyWarning: \n",
            "A value is trying to be set on a copy of a slice from a DataFrame.\n",
            "Try using .loc[row_indexer,col_indexer] = value instead\n",
            "\n",
            "See the caveats in the documentation: https://pandas.pydata.org/pandas-docs/stable/user_guide/indexing.html#returning-a-view-versus-a-copy\n",
            "  categorical[i]=le.fit_transform(categorical[i])\n",
            "<ipython-input-14-3d8af6a2b827>:5: SettingWithCopyWarning: \n",
            "A value is trying to be set on a copy of a slice from a DataFrame.\n",
            "Try using .loc[row_indexer,col_indexer] = value instead\n",
            "\n",
            "See the caveats in the documentation: https://pandas.pydata.org/pandas-docs/stable/user_guide/indexing.html#returning-a-view-versus-a-copy\n",
            "  categorical[i]=le.fit_transform(categorical[i])\n",
            "<ipython-input-14-3d8af6a2b827>:5: SettingWithCopyWarning: \n",
            "A value is trying to be set on a copy of a slice from a DataFrame.\n",
            "Try using .loc[row_indexer,col_indexer] = value instead\n",
            "\n",
            "See the caveats in the documentation: https://pandas.pydata.org/pandas-docs/stable/user_guide/indexing.html#returning-a-view-versus-a-copy\n",
            "  categorical[i]=le.fit_transform(categorical[i])\n"
          ]
        }
      ],
      "source": [
        "from sklearn.preprocessing import LabelEncoder\n",
        "le=LabelEncoder()\n",
        "for i in categorical.columns:\n",
        "    print(i)\n",
        "    categorical[i]=le.fit_transform(categorical[i])"
      ],
      "id": "7deee653"
    },
    {
      "cell_type": "code",
      "execution_count": null,
      "metadata": {
        "colab": {
          "base_uri": "https://localhost:8080/"
        },
        "id": "e72695d0",
        "outputId": "f3a27fd5-305c-45e6-f0d6-b776f0dc3c26"
      },
      "outputs": [
        {
          "output_type": "stream",
          "name": "stdout",
          "text": [
            "(23282, 104) (23282, 16)\n"
          ]
        },
        {
          "output_type": "execute_result",
          "data": {
            "text/plain": [
              "(23282, 120)"
            ]
          },
          "metadata": {},
          "execution_count": 15
        }
      ],
      "source": [
        "features=pd.concat([non_categorical,categorical],axis=1)\n",
        "print(non_categorical.shape,categorical.shape)\n",
        "features.shape"
      ],
      "id": "e72695d0"
    },
    {
      "cell_type": "markdown",
      "metadata": {
        "id": "343131b8"
      },
      "source": [
        "### Handling imbalances in the dataset\n",
        "Using SMOTE method"
      ],
      "id": "343131b8"
    },
    {
      "cell_type": "code",
      "execution_count": null,
      "metadata": {
        "id": "65691211"
      },
      "outputs": [],
      "source": [
        "from imblearn.over_sampling import SMOTE\n",
        "sm = SMOTE()"
      ],
      "id": "65691211"
    },
    {
      "cell_type": "code",
      "execution_count": null,
      "metadata": {
        "id": "73a96014"
      },
      "outputs": [],
      "source": [
        "X, y = sm.fit_resample(features, target)"
      ],
      "id": "73a96014"
    },
    {
      "cell_type": "code",
      "execution_count": null,
      "metadata": {
        "colab": {
          "base_uri": "https://localhost:8080/",
          "height": 460
        },
        "id": "d5e601ae",
        "outputId": "306b87b4-1dbf-48a4-c2c7-a605404f21b5"
      },
      "outputs": [
        {
          "output_type": "stream",
          "name": "stdout",
          "text": [
            "(42848, 120) (42848,)\n"
          ]
        },
        {
          "output_type": "execute_result",
          "data": {
            "text/plain": [
              "<Axes: >"
            ]
          },
          "metadata": {},
          "execution_count": 18
        },
        {
          "output_type": "display_data",
          "data": {
            "text/plain": [
              "<Figure size 640x480 with 1 Axes>"
            ],
            "image/png": "[encoded data removed]"
          },
          "metadata": {}
        }
      ],
      "source": [
        "print(X.shape, y.shape)\n",
        "y.value_counts().plot.bar()"
      ],
      "id": "d5e601ae"
    },
    {
      "cell_type": "code",
      "execution_count": null,
      "metadata": {
        "colab": {
          "base_uri": "https://localhost:8080/"
        },
        "id": "37b043aa",
        "outputId": "68c6a481-9366-414e-d2d1-5287ba7fe387"
      },
      "outputs": [
        {
          "output_type": "stream",
          "name": "stdout",
          "text": [
            "Train Sizes: (32136, 120), (32136,)\n",
            "Test Sizes: (10712, 120), (10712,)\n"
          ]
        }
      ],
      "source": [
        "from sklearn.model_selection import train_test_split\n",
        "X_train, X_test, y_train, y_test = train_test_split(X, y, test_size=0.25)\n",
        "print('Train Sizes: {}, {}'.format(X_train.shape, y_train.shape))\n",
        "print('Test Sizes: {}, {}'.format(X_test.shape, y_test.shape))"
      ],
      "id": "37b043aa"
    },
    {
      "cell_type": "code",
      "execution_count": null,
      "metadata": {
        "colab": {
          "base_uri": "https://localhost:8080/"
        },
        "id": "ab8c3b5f",
        "outputId": "bb49c66b-6899-49ce-d46a-5f40c7ee7c9d"
      },
      "outputs": [
        {
          "output_type": "stream",
          "name": "stdout",
          "text": [
            "(32136, 120) (10712, 120)\n"
          ]
        }
      ],
      "source": [
        "from sklearn.preprocessing import StandardScaler\n",
        "sc = StandardScaler()\n",
        "X_train = sc.fit_transform(X_train)\n",
        "X_test = sc.fit_transform(X_test)\n",
        "\n",
        "print(X_train.shape, X_test.shape)"
      ],
      "id": "ab8c3b5f"
    },
    {
      "cell_type": "markdown",
      "metadata": {
        "id": "c5e5ffa5"
      },
      "source": [
        "### Building a neural network"
      ],
      "id": "c5e5ffa5"
    },
    {
      "cell_type": "code",
      "execution_count": null,
      "metadata": {
        "id": "b1574a4f"
      },
      "outputs": [],
      "source": [
        "from tensorflow.keras.models import Sequential\n",
        "from tensorflow.keras.layers import Dense, Dropout"
      ],
      "id": "b1574a4f"
    },
    {
      "cell_type": "code",
      "execution_count": null,
      "metadata": {
        "colab": {
          "base_uri": "https://localhost:8080/"
        },
        "id": "2f03b399",
        "outputId": "6083ca03-ab5b-4ac2-dd75-9b515c279fa7"
      },
      "outputs": [
        {
          "output_type": "execute_result",
          "data": {
            "text/plain": [
              "120"
            ]
          },
          "metadata": {},
          "execution_count": 22
        }
      ],
      "source": [
        "X_train.shape[1]"
      ],
      "id": "2f03b399"
    },
    {
      "cell_type": "code",
      "execution_count": null,
      "metadata": {
        "id": "f004daee"
      },
      "outputs": [],
      "source": [
        "model = Sequential([\n",
        "    Dense(64,input_dim=X_train.shape[1], activation='relu'),\n",
        "    Dropout(0.3),\n",
        "    Dense(32, activation='relu'),\n",
        "    Dropout(0.3),\n",
        "    Dense(1, activation='sigmoid')\n",
        "])\n",
        "\n",
        "model.compile(optimizer='adam', loss='binary_crossentropy', metrics=['accuracy'])"
      ],
      "id": "f004daee"
    },
    {
      "cell_type": "code",
      "execution_count": null,
      "metadata": {
        "colab": {
          "base_uri": "https://localhost:8080/"
        },
        "id": "ba0e2e85",
        "outputId": "5fab9a29-b48e-445c-8ba4-f8ca5893a082"
      },
      "outputs": [
        {
          "output_type": "stream",
          "name": "stdout",
          "text": [
            "Model: \"sequential\"\n",
            "_________________________________________________________________\n",
            " Layer (type)                Output Shape              Param #   \n",
            "=================================================================\n",
            " dense (Dense)               (None, 64)                7744      \n",
            "                                                                 \n",
            " dropout (Dropout)           (None, 64)                0         \n",
            "                                                                 \n",
            " dense_1 (Dense)             (None, 32)                2080      \n",
            "                                                                 \n",
            " dropout_1 (Dropout)         (None, 32)                0         \n",
            "                                                                 \n",
            " dense_2 (Dense)             (None, 1)                 33        \n",
            "                                                                 \n",
            "=================================================================\n",
            "Total params: 9,857\n",
            "Trainable params: 9,857\n",
            "Non-trainable params: 0\n",
            "_________________________________________________________________\n"
          ]
        }
      ],
      "source": [
        "model.summary()"
      ],
      "id": "ba0e2e85"
    },
    {
      "cell_type": "code",
      "execution_count": null,
      "metadata": {
        "colab": {
          "base_uri": "https://localhost:8080/"
        },
        "id": "29f9d5e8",
        "outputId": "2009498f-5f90-472d-83d0-2ec95f943129"
      },
      "outputs": [
        {
          "output_type": "stream",
          "name": "stdout",
          "text": [
            "Epoch 1/100\n",
            "402/402 [==============================] - 8s 5ms/step - loss: 0.5838 - accuracy: 0.6914 - val_loss: 0.4829 - val_accuracy: 0.7777\n",
            "Epoch 2/100\n",
            "402/402 [==============================] - 2s 4ms/step - loss: 0.4906 - accuracy: 0.7706 - val_loss: 0.4483 - val_accuracy: 0.7950\n",
            "Epoch 3/100\n",
            "402/402 [==============================] - 2s 4ms/step - loss: 0.4621 - accuracy: 0.7863 - val_loss: 0.4227 - val_accuracy: 0.8082\n",
            "Epoch 4/100\n",
            "402/402 [==============================] - 2s 4ms/step - loss: 0.4401 - accuracy: 0.7975 - val_loss: 0.4013 - val_accuracy: 0.8219\n",
            "Epoch 5/100\n",
            "402/402 [==============================] - 3s 6ms/step - loss: 0.4205 - accuracy: 0.8078 - val_loss: 0.3863 - val_accuracy: 0.8321\n",
            "Epoch 6/100\n",
            "402/402 [==============================] - 2s 4ms/step - loss: 0.3991 - accuracy: 0.8190 - val_loss: 0.3636 - val_accuracy: 0.8441\n",
            "Epoch 7/100\n",
            "402/402 [==============================] - 2s 4ms/step - loss: 0.3880 - accuracy: 0.8250 - val_loss: 0.3517 - val_accuracy: 0.8491\n",
            "Epoch 8/100\n",
            "402/402 [==============================] - 2s 4ms/step - loss: 0.3730 - accuracy: 0.8343 - val_loss: 0.3382 - val_accuracy: 0.8583\n",
            "Epoch 9/100\n",
            "402/402 [==============================] - 2s 4ms/step - loss: 0.3615 - accuracy: 0.8411 - val_loss: 0.3347 - val_accuracy: 0.8609\n",
            "Epoch 10/100\n",
            "402/402 [==============================] - 2s 4ms/step - loss: 0.3544 - accuracy: 0.8449 - val_loss: 0.3266 - val_accuracy: 0.8615\n",
            "Epoch 11/100\n",
            "402/402 [==============================] - 2s 4ms/step - loss: 0.3416 - accuracy: 0.8516 - val_loss: 0.3152 - val_accuracy: 0.8693\n",
            "Epoch 12/100\n",
            "402/402 [==============================] - 2s 6ms/step - loss: 0.3413 - accuracy: 0.8512 - val_loss: 0.3095 - val_accuracy: 0.8692\n",
            "Epoch 13/100\n",
            "402/402 [==============================] - 2s 4ms/step - loss: 0.3303 - accuracy: 0.8586 - val_loss: 0.3082 - val_accuracy: 0.8718\n",
            "Epoch 14/100\n",
            "402/402 [==============================] - 2s 4ms/step - loss: 0.3251 - accuracy: 0.8581 - val_loss: 0.2967 - val_accuracy: 0.8774\n",
            "Epoch 15/100\n",
            "402/402 [==============================] - 2s 4ms/step - loss: 0.3189 - accuracy: 0.8633 - val_loss: 0.2877 - val_accuracy: 0.8779\n",
            "Epoch 16/100\n",
            "402/402 [==============================] - 2s 4ms/step - loss: 0.3151 - accuracy: 0.8655 - val_loss: 0.2851 - val_accuracy: 0.8791\n",
            "Epoch 17/100\n",
            "402/402 [==============================] - 2s 4ms/step - loss: 0.3079 - accuracy: 0.8698 - val_loss: 0.2820 - val_accuracy: 0.8821\n",
            "Epoch 18/100\n",
            "402/402 [==============================] - 2s 4ms/step - loss: 0.2988 - accuracy: 0.8736 - val_loss: 0.2752 - val_accuracy: 0.8857\n",
            "Epoch 19/100\n",
            "402/402 [==============================] - 2s 6ms/step - loss: 0.2981 - accuracy: 0.8730 - val_loss: 0.2730 - val_accuracy: 0.8860\n",
            "Epoch 20/100\n",
            "402/402 [==============================] - 2s 4ms/step - loss: 0.2903 - accuracy: 0.8780 - val_loss: 0.2676 - val_accuracy: 0.8920\n",
            "Epoch 21/100\n",
            "402/402 [==============================] - 1s 4ms/step - loss: 0.2808 - accuracy: 0.8830 - val_loss: 0.2659 - val_accuracy: 0.8906\n",
            "Epoch 22/100\n",
            "402/402 [==============================] - 1s 4ms/step - loss: 0.2816 - accuracy: 0.8804 - val_loss: 0.2637 - val_accuracy: 0.8911\n",
            "Epoch 23/100\n",
            "402/402 [==============================] - 2s 4ms/step - loss: 0.2790 - accuracy: 0.8824 - val_loss: 0.2578 - val_accuracy: 0.8975\n",
            "Epoch 24/100\n",
            "402/402 [==============================] - 2s 4ms/step - loss: 0.2713 - accuracy: 0.8836 - val_loss: 0.2543 - val_accuracy: 0.8984\n",
            "Epoch 25/100\n",
            "402/402 [==============================] - 2s 4ms/step - loss: 0.2721 - accuracy: 0.8879 - val_loss: 0.2486 - val_accuracy: 0.9001\n",
            "Epoch 26/100\n",
            "402/402 [==============================] - 3s 7ms/step - loss: 0.2671 - accuracy: 0.8904 - val_loss: 0.2496 - val_accuracy: 0.8993\n",
            "Epoch 27/100\n",
            "402/402 [==============================] - 3s 7ms/step - loss: 0.2676 - accuracy: 0.8872 - val_loss: 0.2469 - val_accuracy: 0.9023\n",
            "Epoch 28/100\n",
            "402/402 [==============================] - 3s 7ms/step - loss: 0.2644 - accuracy: 0.8882 - val_loss: 0.2496 - val_accuracy: 0.8973\n",
            "Epoch 29/100\n",
            "402/402 [==============================] - 2s 4ms/step - loss: 0.2594 - accuracy: 0.8905 - val_loss: 0.2461 - val_accuracy: 0.9023\n",
            "Epoch 30/100\n",
            "402/402 [==============================] - 2s 4ms/step - loss: 0.2595 - accuracy: 0.8898 - val_loss: 0.2406 - val_accuracy: 0.9062\n",
            "Epoch 31/100\n",
            "402/402 [==============================] - 2s 4ms/step - loss: 0.2526 - accuracy: 0.8953 - val_loss: 0.2403 - val_accuracy: 0.9042\n",
            "Epoch 32/100\n",
            "402/402 [==============================] - 2s 6ms/step - loss: 0.2467 - accuracy: 0.8993 - val_loss: 0.2365 - val_accuracy: 0.9063\n",
            "Epoch 33/100\n",
            "402/402 [==============================] - 2s 4ms/step - loss: 0.2526 - accuracy: 0.8950 - val_loss: 0.2320 - val_accuracy: 0.9082\n",
            "Epoch 34/100\n",
            "402/402 [==============================] - 2s 4ms/step - loss: 0.2462 - accuracy: 0.8980 - val_loss: 0.2344 - val_accuracy: 0.9056\n",
            "Epoch 35/100\n",
            "402/402 [==============================] - 2s 4ms/step - loss: 0.2471 - accuracy: 0.8976 - val_loss: 0.2316 - val_accuracy: 0.9109\n",
            "Epoch 36/100\n",
            "402/402 [==============================] - 2s 4ms/step - loss: 0.2443 - accuracy: 0.8985 - val_loss: 0.2301 - val_accuracy: 0.9099\n",
            "Epoch 37/100\n",
            "402/402 [==============================] - 2s 4ms/step - loss: 0.2438 - accuracy: 0.8986 - val_loss: 0.2273 - val_accuracy: 0.9132\n",
            "Epoch 38/100\n",
            "402/402 [==============================] - 2s 4ms/step - loss: 0.2379 - accuracy: 0.9019 - val_loss: 0.2300 - val_accuracy: 0.9132\n",
            "Epoch 39/100\n",
            "402/402 [==============================] - 2s 5ms/step - loss: 0.2377 - accuracy: 0.9019 - val_loss: 0.2326 - val_accuracy: 0.9102\n",
            "Epoch 40/100\n",
            "402/402 [==============================] - 2s 4ms/step - loss: 0.2414 - accuracy: 0.9021 - val_loss: 0.2286 - val_accuracy: 0.9082\n",
            "Epoch 41/100\n",
            "402/402 [==============================] - 2s 4ms/step - loss: 0.2343 - accuracy: 0.9041 - val_loss: 0.2255 - val_accuracy: 0.9110\n",
            "Epoch 42/100\n",
            "402/402 [==============================] - 2s 4ms/step - loss: 0.2327 - accuracy: 0.9056 - val_loss: 0.2285 - val_accuracy: 0.9107\n",
            "Epoch 43/100\n",
            "402/402 [==============================] - 2s 4ms/step - loss: 0.2328 - accuracy: 0.9037 - val_loss: 0.2220 - val_accuracy: 0.9143\n",
            "Epoch 44/100\n",
            "402/402 [==============================] - 2s 4ms/step - loss: 0.2302 - accuracy: 0.9058 - val_loss: 0.2235 - val_accuracy: 0.9163\n",
            "Epoch 45/100\n",
            "402/402 [==============================] - 2s 4ms/step - loss: 0.2270 - accuracy: 0.9083 - val_loss: 0.2206 - val_accuracy: 0.9141\n",
            "Epoch 46/100\n",
            "402/402 [==============================] - 2s 5ms/step - loss: 0.2242 - accuracy: 0.9073 - val_loss: 0.2172 - val_accuracy: 0.9141\n",
            "Epoch 47/100\n",
            "402/402 [==============================] - 2s 5ms/step - loss: 0.2239 - accuracy: 0.9095 - val_loss: 0.2177 - val_accuracy: 0.9130\n",
            "Epoch 48/100\n",
            "402/402 [==============================] - 2s 4ms/step - loss: 0.2263 - accuracy: 0.9083 - val_loss: 0.2182 - val_accuracy: 0.9151\n",
            "Epoch 49/100\n",
            "402/402 [==============================] - 2s 4ms/step - loss: 0.2241 - accuracy: 0.9095 - val_loss: 0.2142 - val_accuracy: 0.9183\n",
            "Epoch 50/100\n",
            "402/402 [==============================] - 2s 4ms/step - loss: 0.2189 - accuracy: 0.9101 - val_loss: 0.2171 - val_accuracy: 0.9141\n",
            "Epoch 51/100\n",
            "402/402 [==============================] - 2s 4ms/step - loss: 0.2224 - accuracy: 0.9103 - val_loss: 0.2202 - val_accuracy: 0.9132\n",
            "Epoch 52/100\n",
            "402/402 [==============================] - 2s 4ms/step - loss: 0.2213 - accuracy: 0.9094 - val_loss: 0.2119 - val_accuracy: 0.9158\n",
            "Epoch 53/100\n",
            "402/402 [==============================] - 2s 4ms/step - loss: 0.2170 - accuracy: 0.9138 - val_loss: 0.2157 - val_accuracy: 0.9141\n",
            "Epoch 54/100\n",
            "402/402 [==============================] - 2s 6ms/step - loss: 0.2211 - accuracy: 0.9108 - val_loss: 0.2137 - val_accuracy: 0.9175\n",
            "Epoch 55/100\n",
            "402/402 [==============================] - 2s 4ms/step - loss: 0.2183 - accuracy: 0.9117 - val_loss: 0.2115 - val_accuracy: 0.9165\n",
            "Epoch 56/100\n",
            "402/402 [==============================] - 2s 4ms/step - loss: 0.2163 - accuracy: 0.9105 - val_loss: 0.2131 - val_accuracy: 0.9188\n",
            "Epoch 57/100\n",
            "402/402 [==============================] - 2s 4ms/step - loss: 0.2171 - accuracy: 0.9128 - val_loss: 0.2148 - val_accuracy: 0.9168\n",
            "Epoch 58/100\n",
            "402/402 [==============================] - 2s 4ms/step - loss: 0.2157 - accuracy: 0.9126 - val_loss: 0.2151 - val_accuracy: 0.9160\n",
            "Epoch 59/100\n",
            "402/402 [==============================] - 2s 4ms/step - loss: 0.2131 - accuracy: 0.9145 - val_loss: 0.2149 - val_accuracy: 0.9186\n",
            "Epoch 60/100\n",
            "402/402 [==============================] - 2s 4ms/step - loss: 0.2159 - accuracy: 0.9120 - val_loss: 0.2123 - val_accuracy: 0.9193\n",
            "Epoch 61/100\n",
            "402/402 [==============================] - 2s 6ms/step - loss: 0.2118 - accuracy: 0.9152 - val_loss: 0.2117 - val_accuracy: 0.9172\n",
            "Epoch 62/100\n",
            "402/402 [==============================] - 2s 4ms/step - loss: 0.2171 - accuracy: 0.9121 - val_loss: 0.2105 - val_accuracy: 0.9194\n",
            "Epoch 63/100\n",
            "402/402 [==============================] - 2s 4ms/step - loss: 0.2141 - accuracy: 0.9131 - val_loss: 0.2182 - val_accuracy: 0.9147\n",
            "Epoch 64/100\n",
            "402/402 [==============================] - 2s 4ms/step - loss: 0.2073 - accuracy: 0.9162 - val_loss: 0.2114 - val_accuracy: 0.9185\n",
            "Epoch 65/100\n",
            "402/402 [==============================] - 2s 4ms/step - loss: 0.2160 - accuracy: 0.9148 - val_loss: 0.2091 - val_accuracy: 0.9183\n",
            "Epoch 66/100\n",
            "402/402 [==============================] - 2s 4ms/step - loss: 0.2093 - accuracy: 0.9151 - val_loss: 0.2069 - val_accuracy: 0.9205\n",
            "Epoch 67/100\n",
            "402/402 [==============================] - 2s 6ms/step - loss: 0.2074 - accuracy: 0.9164 - val_loss: 0.2075 - val_accuracy: 0.9191\n",
            "Epoch 68/100\n",
            "402/402 [==============================] - 2s 6ms/step - loss: 0.2057 - accuracy: 0.9167 - val_loss: 0.2084 - val_accuracy: 0.9171\n",
            "Epoch 69/100\n",
            "402/402 [==============================] - 2s 4ms/step - loss: 0.2059 - accuracy: 0.9178 - val_loss: 0.2106 - val_accuracy: 0.9160\n",
            "Epoch 70/100\n",
            "402/402 [==============================] - 2s 4ms/step - loss: 0.2029 - accuracy: 0.9178 - val_loss: 0.2041 - val_accuracy: 0.9207\n",
            "Epoch 71/100\n",
            "402/402 [==============================] - 2s 4ms/step - loss: 0.2043 - accuracy: 0.9181 - val_loss: 0.2072 - val_accuracy: 0.9188\n",
            "Epoch 72/100\n",
            "402/402 [==============================] - 2s 4ms/step - loss: 0.2035 - accuracy: 0.9187 - val_loss: 0.2099 - val_accuracy: 0.9172\n",
            "Epoch 73/100\n",
            "402/402 [==============================] - 2s 4ms/step - loss: 0.2020 - accuracy: 0.9185 - val_loss: 0.2079 - val_accuracy: 0.9155\n",
            "Epoch 74/100\n",
            "402/402 [==============================] - 2s 4ms/step - loss: 0.2074 - accuracy: 0.9162 - val_loss: 0.2110 - val_accuracy: 0.9182\n",
            "Epoch 75/100\n",
            "402/402 [==============================] - 2s 6ms/step - loss: 0.2003 - accuracy: 0.9186 - val_loss: 0.2089 - val_accuracy: 0.9182\n",
            "Epoch 76/100\n",
            "402/402 [==============================] - 2s 4ms/step - loss: 0.2090 - accuracy: 0.9156 - val_loss: 0.2062 - val_accuracy: 0.9197\n",
            "Epoch 77/100\n",
            "402/402 [==============================] - 2s 4ms/step - loss: 0.2003 - accuracy: 0.9187 - val_loss: 0.2053 - val_accuracy: 0.9203\n",
            "Epoch 78/100\n",
            "402/402 [==============================] - 2s 4ms/step - loss: 0.2003 - accuracy: 0.9189 - val_loss: 0.2055 - val_accuracy: 0.9199\n",
            "Epoch 79/100\n",
            "402/402 [==============================] - 2s 4ms/step - loss: 0.2011 - accuracy: 0.9189 - val_loss: 0.2093 - val_accuracy: 0.9183\n",
            "Epoch 80/100\n",
            "402/402 [==============================] - 2s 4ms/step - loss: 0.2002 - accuracy: 0.9183 - val_loss: 0.2146 - val_accuracy: 0.9157\n",
            "Epoch 81/100\n",
            "402/402 [==============================] - 2s 4ms/step - loss: 0.1979 - accuracy: 0.9204 - val_loss: 0.2079 - val_accuracy: 0.9202\n",
            "Epoch 82/100\n",
            "402/402 [==============================] - 2s 6ms/step - loss: 0.2035 - accuracy: 0.9169 - val_loss: 0.2074 - val_accuracy: 0.9179\n",
            "Epoch 83/100\n",
            "402/402 [==============================] - 2s 4ms/step - loss: 0.2008 - accuracy: 0.9203 - val_loss: 0.2064 - val_accuracy: 0.9179\n",
            "Epoch 84/100\n",
            "402/402 [==============================] - 2s 4ms/step - loss: 0.1985 - accuracy: 0.9206 - val_loss: 0.2075 - val_accuracy: 0.9165\n",
            "Epoch 85/100\n",
            "402/402 [==============================] - 2s 4ms/step - loss: 0.1997 - accuracy: 0.9206 - val_loss: 0.2033 - val_accuracy: 0.9202\n",
            "Epoch 86/100\n",
            "402/402 [==============================] - 2s 4ms/step - loss: 0.1966 - accuracy: 0.9203 - val_loss: 0.2119 - val_accuracy: 0.9144\n",
            "Epoch 87/100\n",
            "402/402 [==============================] - 2s 4ms/step - loss: 0.2015 - accuracy: 0.9194 - val_loss: 0.2063 - val_accuracy: 0.9183\n",
            "Epoch 88/100\n",
            "402/402 [==============================] - 2s 4ms/step - loss: 0.1958 - accuracy: 0.9215 - val_loss: 0.2023 - val_accuracy: 0.9221\n",
            "Epoch 89/100\n",
            "402/402 [==============================] - 2s 5ms/step - loss: 0.1966 - accuracy: 0.9206 - val_loss: 0.2054 - val_accuracy: 0.9180\n",
            "Epoch 90/100\n",
            "402/402 [==============================] - 2s 4ms/step - loss: 0.1975 - accuracy: 0.9210 - val_loss: 0.2059 - val_accuracy: 0.9175\n",
            "Epoch 91/100\n",
            "402/402 [==============================] - 2s 4ms/step - loss: 0.1969 - accuracy: 0.9192 - val_loss: 0.2041 - val_accuracy: 0.9203\n",
            "Epoch 92/100\n",
            "402/402 [==============================] - 2s 4ms/step - loss: 0.1976 - accuracy: 0.9223 - val_loss: 0.2041 - val_accuracy: 0.9182\n",
            "Epoch 93/100\n",
            "402/402 [==============================] - 2s 4ms/step - loss: 0.1957 - accuracy: 0.9211 - val_loss: 0.2069 - val_accuracy: 0.9168\n",
            "Epoch 94/100\n",
            "402/402 [==============================] - 2s 4ms/step - loss: 0.1954 - accuracy: 0.9227 - val_loss: 0.2057 - val_accuracy: 0.9182\n",
            "Epoch 95/100\n",
            "402/402 [==============================] - 2s 5ms/step - loss: 0.1892 - accuracy: 0.9233 - val_loss: 0.2074 - val_accuracy: 0.9174\n",
            "Epoch 96/100\n",
            "402/402 [==============================] - 2s 5ms/step - loss: 0.1944 - accuracy: 0.9238 - val_loss: 0.2026 - val_accuracy: 0.9203\n",
            "Epoch 97/100\n",
            "402/402 [==============================] - 2s 4ms/step - loss: 0.1975 - accuracy: 0.9218 - val_loss: 0.2052 - val_accuracy: 0.9221\n",
            "Epoch 98/100\n",
            "402/402 [==============================] - 2s 4ms/step - loss: 0.1937 - accuracy: 0.9238 - val_loss: 0.2047 - val_accuracy: 0.9205\n",
            "Epoch 99/100\n",
            "402/402 [==============================] - 2s 4ms/step - loss: 0.1919 - accuracy: 0.9262 - val_loss: 0.2059 - val_accuracy: 0.9186\n",
            "Epoch 100/100\n",
            "402/402 [==============================] - 2s 4ms/step - loss: 0.1931 - accuracy: 0.9231 - val_loss: 0.2008 - val_accuracy: 0.9221\n"
          ]
        }
      ],
      "source": [
        "train_history= model.fit(X_train, y_train, batch_size=64, epochs=100, validation_split=0.2)"
      ],
      "id": "29f9d5e8"
    },
    {
      "cell_type": "code",
      "execution_count": null,
      "metadata": {
        "id": "22fc67f0",
        "colab": {
          "base_uri": "https://localhost:8080/"
        },
        "outputId": "971ea3e2-526b-4729-cc9b-ea85f07c8e1a"
      },
      "outputs": [
        {
          "output_type": "stream",
          "name": "stdout",
          "text": [
            "335/335 [==============================] - 1s 2ms/step - loss: 0.2128 - accuracy: 0.9130\n",
            "Test Loss:  0.21282455325126648\n",
            "Test Accuracy:  0.9129948019981384\n"
          ]
        }
      ],
      "source": [
        "eval_test_data = model.evaluate(X_test, y_test)\n",
        "print(\"Test Loss: \", eval_test_data[0])\n",
        "print(\"Test Accuracy: \", eval_test_data[1])\n",
        "accuracy = train_history.history['accuracy']\n",
        "val_accuracy = train_history.history['val_accuracy']\n",
        "loss = train_history.history['loss']"
      ],
      "id": "22fc67f0"
    },
    {
      "cell_type": "code",
      "execution_count": null,
      "metadata": {
        "id": "e-rS7xVs26kd",
        "colab": {
          "base_uri": "https://localhost:8080/",
          "height": 922
        },
        "outputId": "a09e6cd1-34b5-491e-e09b-6a3fc45a2b00"
      },
      "outputs": [
        {
          "output_type": "execute_result",
          "data": {
            "text/plain": [
              "<Figure size 640x480 with 0 Axes>"
            ]
          },
          "metadata": {},
          "execution_count": 27
        },
        {
          "output_type": "display_data",
          "data": {
            "text/plain": [
              "<Figure size 640x480 with 1 Axes>"
            ],
            "image/png": "[encoded data removed]"
          },
          "metadata": {}
        },
        {
          "output_type": "display_data",
          "data": {
            "text/plain": [
              "<Figure size 640x480 with 1 Axes>"
            ],
            "image/png": "[encoded data removed]"
          },
          "metadata": {}
        },
        {
          "output_type": "display_data",
          "data": {
            "text/plain": [
              "<Figure size 640x480 with 0 Axes>"
            ]
          },
          "metadata": {}
        }
      ],
      "source": [
        "val_loss=train_history.history['val_loss']\n",
        "epochs=range(len(accuracy))\n",
        "plt.plot(epochs,accuracy,'r',label='training accuracy')\n",
        "plt.plot(epochs,val_accuracy,'b',label='validation accuracy')\n",
        "plt.title('training and validation accuracy')\n",
        "plt.legend()\n",
        "plt.figure()\n",
        "plt.plot(epochs,loss,'r',label='training loss')\n",
        "plt.plot(epochs,val_loss,'b',label='validation loss')\n",
        "plt.title('training and validation loss')\n",
        "plt.legend()\n",
        "plt.figure()"
      ],
      "id": "e-rS7xVs26kd"
    },
    {
      "cell_type": "markdown",
      "metadata": {
        "id": "4dTOi64m7SdH"
      },
      "source": [
        "\n",
        "### Calculating the area under receiver operating characteristics curve"
      ],
      "id": "4dTOi64m7SdH"
    },
    {
      "cell_type": "code",
      "execution_count": null,
      "metadata": {
        "id": "lM-nTCrl7r8I",
        "colab": {
          "base_uri": "https://localhost:8080/"
        },
        "outputId": "f5408792-8eb0-4e33-ce7b-d81b3558a53b"
      },
      "outputs": [
        {
          "output_type": "stream",
          "name": "stdout",
          "text": [
            "335/335 [==============================] - 1s 1ms/step\n",
            "Area under the ROC Curve:  0.9737384479506073\n"
          ]
        }
      ],
      "source": [
        "from sklearn.metrics import roc_curve,roc_auc_score\n",
        "y_pred=model.predict(X_test)\n",
        "auc_score=roc_auc_score(y_test,y_pred)\n",
        "print(\"Area under the ROC Curve: \", auc_score)"
      ],
      "id": "lM-nTCrl7r8I"
    }
  ],
  "metadata": {
    "accelerator": "GPU",
    "colab": {
      "provenance": []
    },
    "kernelspec": {
      "display_name": "Python 3 (ipykernel)",
      "language": "python",
      "name": "python3"
    },
    "language_info": {
      "codemirror_mode": {
        "name": "ipython",
        "version": 3
      },
      "file_extension": ".py",
      "mimetype": "text/x-python",
      "name": "python",
      "nbconvert_exporter": "python",
      "pygments_lexer": "ipython3",
      "version": "3.9.0"
    }
  },
  "nbformat": 4,
  "nbformat_minor": 5
}