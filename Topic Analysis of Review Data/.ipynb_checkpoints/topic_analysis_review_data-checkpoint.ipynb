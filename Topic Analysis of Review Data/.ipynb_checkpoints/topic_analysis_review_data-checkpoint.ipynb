{
 "cells": [
  {
   "cell_type": "code",
   "execution_count": 1,
   "id": "cc971d16",
   "metadata": {
    "colab": {
     "base_uri": "https://localhost:8080/",
     "height": 0
    },
    "id": "cc971d16",
    "outputId": "5c357814-019b-452f-a184-3dfb6d1f82f0"
   },
   "outputs": [
    {
     "name": "stderr",
     "output_type": "stream",
     "text": [
      "[nltk_data] Downloading package wordnet to /root/nltk_data...\n",
      "[nltk_data] Downloading package omw-1.4 to /root/nltk_data...\n",
      "[nltk_data] Downloading package punkt to /root/nltk_data...\n",
      "[nltk_data]   Unzipping tokenizers/punkt.zip.\n",
      "[nltk_data] Downloading package averaged_perceptron_tagger to\n",
      "[nltk_data]     /root/nltk_data...\n",
      "[nltk_data]   Unzipping taggers/averaged_perceptron_tagger.zip.\n",
      "[nltk_data] Downloading package tagsets to /root/nltk_data...\n",
      "[nltk_data]   Unzipping help/tagsets.zip.\n"
     ]
    },
    {
     "data": {
      "text/plain": [
       "True"
      ]
     },
     "execution_count": 1,
     "metadata": {},
     "output_type": "execute_result"
    }
   ],
   "source": [
    "import nltk\n",
    "import pandas as pd\n",
    "nltk.download('wordnet')\n",
    "nltk.download('omw-1.4')\n",
    "nltk.download('punkt')\n",
    "nltk.download('averaged_perceptron_tagger')\n",
    "nltk.download('tagsets')"
   ]
  },
  {
   "cell_type": "markdown",
   "id": "08d8c1a6",
   "metadata": {
    "id": "08d8c1a6"
   },
   "source": [
    "### Reading the data"
   ]
  },
  {
   "cell_type": "code",
   "execution_count": 2,
   "id": "08f83f7d",
   "metadata": {
    "colab": {
     "base_uri": "https://localhost:8080/",
     "height": 206
    },
    "id": "08f83f7d",
    "outputId": "4f337f77-26b7-4622-83c8-dabaa5653575"
   },
   "outputs": [
    {
     "data": {
      "text/html": [
       "\n",
       "\n",
       "  <div id=\"df-cc3118ff-13ab-4c9c-bb35-25c2a10eaa70\">\n",
       "    <div class=\"colab-df-container\">\n",
       "      <div>\n",
       "<style scoped>\n",
       "    .dataframe tbody tr th:only-of-type {\n",
       "        vertical-align: middle;\n",
       "    }\n",
       "\n",
       "    .dataframe tbody tr th {\n",
       "        vertical-align: top;\n",
       "    }\n",
       "\n",
       "    .dataframe thead th {\n",
       "        text-align: right;\n",
       "    }\n",
       "</style>\n",
       "<table border=\"1\" class=\"dataframe\">\n",
       "  <thead>\n",
       "    <tr style=\"text-align: right;\">\n",
       "      <th></th>\n",
       "      <th>sentiment</th>\n",
       "      <th>review</th>\n",
       "    </tr>\n",
       "  </thead>\n",
       "  <tbody>\n",
       "    <tr>\n",
       "      <th>0</th>\n",
       "      <td>1</td>\n",
       "      <td>Good but need updates and improvements</td>\n",
       "    </tr>\n",
       "    <tr>\n",
       "      <th>1</th>\n",
       "      <td>0</td>\n",
       "      <td>Worst mobile i have bought ever, Battery is dr...</td>\n",
       "    </tr>\n",
       "    <tr>\n",
       "      <th>2</th>\n",
       "      <td>1</td>\n",
       "      <td>when I will get my 10% cash back.... its alrea...</td>\n",
       "    </tr>\n",
       "    <tr>\n",
       "      <th>3</th>\n",
       "      <td>1</td>\n",
       "      <td>Good</td>\n",
       "    </tr>\n",
       "    <tr>\n",
       "      <th>4</th>\n",
       "      <td>0</td>\n",
       "      <td>The worst phone everThey have changed the last...</td>\n",
       "    </tr>\n",
       "  </tbody>\n",
       "</table>\n",
       "</div>\n",
       "      <button class=\"colab-df-convert\" onclick=\"convertToInteractive('df-cc3118ff-13ab-4c9c-bb35-25c2a10eaa70')\"\n",
       "              title=\"Convert this dataframe to an interactive table.\"\n",
       "              style=\"display:none;\">\n",
       "\n",
       "  <svg xmlns=\"http://www.w3.org/2000/svg\" height=\"24px\"viewBox=\"0 0 24 24\"\n",
       "       width=\"24px\">\n",
       "    <path d=\"M0 0h24v24H0V0z\" fill=\"none\"/>\n",
       "    <path d=\"M18.56 5.44l.94 2.06.94-2.06 2.06-.94-2.06-.94-.94-2.06-.94 2.06-2.06.94zm-11 1L8.5 8.5l.94-2.06 2.06-.94-2.06-.94L8.5 2.5l-.94 2.06-2.06.94zm10 10l.94 2.06.94-2.06 2.06-.94-2.06-.94-.94-2.06-.94 2.06-2.06.94z\"/><path d=\"M17.41 7.96l-1.37-1.37c-.4-.4-.92-.59-1.43-.59-.52 0-1.04.2-1.43.59L10.3 9.45l-7.72 7.72c-.78.78-.78 2.05 0 2.83L4 21.41c.39.39.9.59 1.41.59.51 0 1.02-.2 1.41-.59l7.78-7.78 2.81-2.81c.8-.78.8-2.07 0-2.86zM5.41 20L4 18.59l7.72-7.72 1.47 1.35L5.41 20z\"/>\n",
       "  </svg>\n",
       "      </button>\n",
       "\n",
       "\n",
       "\n",
       "    <div id=\"df-77ab57f3-13a7-4cb7-841f-d72ed068c84f\">\n",
       "      <button class=\"colab-df-quickchart\" onclick=\"quickchart('df-77ab57f3-13a7-4cb7-841f-d72ed068c84f')\"\n",
       "              title=\"Suggest charts.\"\n",
       "              style=\"display:none;\">\n",
       "\n",
       "<svg xmlns=\"http://www.w3.org/2000/svg\" height=\"24px\"viewBox=\"0 0 24 24\"\n",
       "     width=\"24px\">\n",
       "    <g>\n",
       "        <path d=\"M19 3H5c-1.1 0-2 .9-2 2v14c0 1.1.9 2 2 2h14c1.1 0 2-.9 2-2V5c0-1.1-.9-2-2-2zM9 17H7v-7h2v7zm4 0h-2V7h2v10zm4 0h-2v-4h2v4z\"/>\n",
       "    </g>\n",
       "</svg>\n",
       "      </button>\n",
       "    </div>\n",
       "\n",
       "<style>\n",
       "  .colab-df-quickchart {\n",
       "    background-color: #E8F0FE;\n",
       "    border: none;\n",
       "    border-radius: 50%;\n",
       "    cursor: pointer;\n",
       "    display: none;\n",
       "    fill: #1967D2;\n",
       "    height: 32px;\n",
       "    padding: 0 0 0 0;\n",
       "    width: 32px;\n",
       "  }\n",
       "\n",
       "  .colab-df-quickchart:hover {\n",
       "    background-color: #E2EBFA;\n",
       "    box-shadow: 0px 1px 2px rgba(60, 64, 67, 0.3), 0px 1px 3px 1px rgba(60, 64, 67, 0.15);\n",
       "    fill: #174EA6;\n",
       "  }\n",
       "\n",
       "  [theme=dark] .colab-df-quickchart {\n",
       "    background-color: #3B4455;\n",
       "    fill: #D2E3FC;\n",
       "  }\n",
       "\n",
       "  [theme=dark] .colab-df-quickchart:hover {\n",
       "    background-color: #434B5C;\n",
       "    box-shadow: 0px 1px 3px 1px rgba(0, 0, 0, 0.15);\n",
       "    filter: drop-shadow(0px 1px 2px rgba(0, 0, 0, 0.3));\n",
       "    fill: #FFFFFF;\n",
       "  }\n",
       "</style>\n",
       "\n",
       "    <script>\n",
       "      async function quickchart(key) {\n",
       "        const containerElement = document.querySelector('#' + key);\n",
       "        const charts = await google.colab.kernel.invokeFunction(\n",
       "            'suggestCharts', [key], {});\n",
       "      }\n",
       "    </script>\n",
       "\n",
       "      <script>\n",
       "\n",
       "function displayQuickchartButton(domScope) {\n",
       "  let quickchartButtonEl =\n",
       "    domScope.querySelector('#df-77ab57f3-13a7-4cb7-841f-d72ed068c84f button.colab-df-quickchart');\n",
       "  quickchartButtonEl.style.display =\n",
       "    google.colab.kernel.accessAllowed ? 'block' : 'none';\n",
       "}\n",
       "\n",
       "        displayQuickchartButton(document);\n",
       "      </script>\n",
       "      <style>\n",
       "    .colab-df-container {\n",
       "      display:flex;\n",
       "      flex-wrap:wrap;\n",
       "      gap: 12px;\n",
       "    }\n",
       "\n",
       "    .colab-df-convert {\n",
       "      background-color: #E8F0FE;\n",
       "      border: none;\n",
       "      border-radius: 50%;\n",
       "      cursor: pointer;\n",
       "      display: none;\n",
       "      fill: #1967D2;\n",
       "      height: 32px;\n",
       "      padding: 0 0 0 0;\n",
       "      width: 32px;\n",
       "    }\n",
       "\n",
       "    .colab-df-convert:hover {\n",
       "      background-color: #E2EBFA;\n",
       "      box-shadow: 0px 1px 2px rgba(60, 64, 67, 0.3), 0px 1px 3px 1px rgba(60, 64, 67, 0.15);\n",
       "      fill: #174EA6;\n",
       "    }\n",
       "\n",
       "    [theme=dark] .colab-df-convert {\n",
       "      background-color: #3B4455;\n",
       "      fill: #D2E3FC;\n",
       "    }\n",
       "\n",
       "    [theme=dark] .colab-df-convert:hover {\n",
       "      background-color: #434B5C;\n",
       "      box-shadow: 0px 1px 3px 1px rgba(0, 0, 0, 0.15);\n",
       "      filter: drop-shadow(0px 1px 2px rgba(0, 0, 0, 0.3));\n",
       "      fill: #FFFFFF;\n",
       "    }\n",
       "  </style>\n",
       "\n",
       "      <script>\n",
       "        const buttonEl =\n",
       "          document.querySelector('#df-cc3118ff-13ab-4c9c-bb35-25c2a10eaa70 button.colab-df-convert');\n",
       "        buttonEl.style.display =\n",
       "          google.colab.kernel.accessAllowed ? 'block' : 'none';\n",
       "\n",
       "        async function convertToInteractive(key) {\n",
       "          const element = document.querySelector('#df-cc3118ff-13ab-4c9c-bb35-25c2a10eaa70');\n",
       "          const dataTable =\n",
       "            await google.colab.kernel.invokeFunction('convertToInteractive',\n",
       "                                                     [key], {});\n",
       "          if (!dataTable) return;\n",
       "\n",
       "          const docLinkHtml = 'Like what you see? Visit the ' +\n",
       "            '<a target=\"_blank\" href=https://colab.research.google.com/notebooks/data_table.ipynb>data table notebook</a>'\n",
       "            + ' to learn more about interactive tables.';\n",
       "          element.innerHTML = '';\n",
       "          dataTable['output_type'] = 'display_data';\n",
       "          await google.colab.output.renderOutput(dataTable, element);\n",
       "          const docLink = document.createElement('div');\n",
       "          docLink.innerHTML = docLinkHtml;\n",
       "          element.appendChild(docLink);\n",
       "        }\n",
       "      </script>\n",
       "    </div>\n",
       "  </div>\n"
      ],
      "text/plain": [
       "   sentiment                                             review\n",
       "0          1             Good but need updates and improvements\n",
       "1          0  Worst mobile i have bought ever, Battery is dr...\n",
       "2          1  when I will get my 10% cash back.... its alrea...\n",
       "3          1                                               Good\n",
       "4          0  The worst phone everThey have changed the last..."
      ]
     },
     "execution_count": 2,
     "metadata": {},
     "output_type": "execute_result"
    }
   ],
   "source": [
    "data = pd.read_csv(\"/content/K8 Reviews v0.2.csv\")\n",
    "data.head()"
   ]
  },
  {
   "cell_type": "markdown",
   "id": "70d6f240",
   "metadata": {
    "id": "70d6f240"
   },
   "source": [
    "### Normalize casings for the review text and extract the text into a list for easier manipulation."
   ]
  },
  {
   "cell_type": "code",
   "execution_count": 3,
   "id": "3859d448",
   "metadata": {
    "colab": {
     "base_uri": "https://localhost:8080/",
     "height": 0
    },
    "id": "3859d448",
    "outputId": "09fe7fe8-2ba2-4964-b05b-1a7f8c92e63d"
   },
   "outputs": [
    {
     "data": {
      "text/plain": [
       "['good but need updates and improvements',\n",
       " \"worst mobile i have bought ever, battery is draining like hell, backup is only 6 to 7 hours with internet uses, even if i put mobile idle its getting discharged.this is biggest lie from amazon & lenove which is not at all expected, they are making full by saying that battery is 4000mah & booster charger is fake, it takes at least 4 to 5 hours to be fully charged.don't know how lenovo will survive by making full of us.please don;t go for this else you will regret like me.\",\n",
       " 'when i will get my 10% cash back.... its already 15 january..',\n",
       " 'good',\n",
       " 'the worst phone everthey have changed the last phone but the problem is still same and the amazon is not returning the phone .highly disappointing of amazon']"
      ]
     },
     "execution_count": 3,
     "metadata": {},
     "output_type": "execute_result"
    }
   ],
   "source": [
    "normalized_reviews = [sent.lower() for sent in data.review.values]\n",
    "normalized_reviews[:5]"
   ]
  },
  {
   "cell_type": "markdown",
   "id": "288f1a2b",
   "metadata": {
    "id": "288f1a2b"
   },
   "source": [
    "### Tokenize the reviews using NLTKs word_tokenize function."
   ]
  },
  {
   "cell_type": "code",
   "execution_count": 4,
   "id": "f76b7585",
   "metadata": {
    "colab": {
     "base_uri": "https://localhost:8080/",
     "height": 0
    },
    "id": "f76b7585",
    "outputId": "fe8b9411-e2f9-4b6f-cfec-ef98685719e1"
   },
   "outputs": [
    {
     "data": {
      "text/plain": [
       "[['good', 'but', 'need', 'updates', 'and', 'improvements'],\n",
       " ['worst',\n",
       "  'mobile',\n",
       "  'i',\n",
       "  'have',\n",
       "  'bought',\n",
       "  'ever',\n",
       "  ',',\n",
       "  'battery',\n",
       "  'is',\n",
       "  'draining',\n",
       "  'like',\n",
       "  'hell',\n",
       "  ',',\n",
       "  'backup',\n",
       "  'is',\n",
       "  'only',\n",
       "  '6',\n",
       "  'to',\n",
       "  '7',\n",
       "  'hours',\n",
       "  'with',\n",
       "  'internet',\n",
       "  'uses',\n",
       "  ',',\n",
       "  'even',\n",
       "  'if',\n",
       "  'i',\n",
       "  'put',\n",
       "  'mobile',\n",
       "  'idle',\n",
       "  'its',\n",
       "  'getting',\n",
       "  'discharged.this',\n",
       "  'is',\n",
       "  'biggest',\n",
       "  'lie',\n",
       "  'from',\n",
       "  'amazon',\n",
       "  '&',\n",
       "  'lenove',\n",
       "  'which',\n",
       "  'is',\n",
       "  'not',\n",
       "  'at',\n",
       "  'all',\n",
       "  'expected',\n",
       "  ',',\n",
       "  'they',\n",
       "  'are',\n",
       "  'making',\n",
       "  'full',\n",
       "  'by',\n",
       "  'saying',\n",
       "  'that',\n",
       "  'battery',\n",
       "  'is',\n",
       "  '4000mah',\n",
       "  '&',\n",
       "  'booster',\n",
       "  'charger',\n",
       "  'is',\n",
       "  'fake',\n",
       "  ',',\n",
       "  'it',\n",
       "  'takes',\n",
       "  'at',\n",
       "  'least',\n",
       "  '4',\n",
       "  'to',\n",
       "  '5',\n",
       "  'hours',\n",
       "  'to',\n",
       "  'be',\n",
       "  'fully',\n",
       "  'charged.do',\n",
       "  \"n't\",\n",
       "  'know',\n",
       "  'how',\n",
       "  'lenovo',\n",
       "  'will',\n",
       "  'survive',\n",
       "  'by',\n",
       "  'making',\n",
       "  'full',\n",
       "  'of',\n",
       "  'us.please',\n",
       "  'don',\n",
       "  ';',\n",
       "  't',\n",
       "  'go',\n",
       "  'for',\n",
       "  'this',\n",
       "  'else',\n",
       "  'you',\n",
       "  'will',\n",
       "  'regret',\n",
       "  'like',\n",
       "  'me',\n",
       "  '.'],\n",
       " ['when',\n",
       "  'i',\n",
       "  'will',\n",
       "  'get',\n",
       "  'my',\n",
       "  '10',\n",
       "  '%',\n",
       "  'cash',\n",
       "  'back',\n",
       "  '....',\n",
       "  'its',\n",
       "  'already',\n",
       "  '15',\n",
       "  'january',\n",
       "  '..'],\n",
       " ['good'],\n",
       " ['the',\n",
       "  'worst',\n",
       "  'phone',\n",
       "  'everthey',\n",
       "  'have',\n",
       "  'changed',\n",
       "  'the',\n",
       "  'last',\n",
       "  'phone',\n",
       "  'but',\n",
       "  'the',\n",
       "  'problem',\n",
       "  'is',\n",
       "  'still',\n",
       "  'same',\n",
       "  'and',\n",
       "  'the',\n",
       "  'amazon',\n",
       "  'is',\n",
       "  'not',\n",
       "  'returning',\n",
       "  'the',\n",
       "  'phone',\n",
       "  '.highly',\n",
       "  'disappointing',\n",
       "  'of',\n",
       "  'amazon']]"
      ]
     },
     "execution_count": 4,
     "metadata": {},
     "output_type": "execute_result"
    }
   ],
   "source": [
    "tokenized_reviews = [nltk.word_tokenize(review) for review in normalized_reviews]\n",
    "tokenized_reviews[:5]"
   ]
  },
  {
   "cell_type": "markdown",
   "id": "8a780e22",
   "metadata": {
    "id": "8a780e22"
   },
   "source": [
    "### Perform parts-of-speech tagging on each sentence using the NLTK POS tagger."
   ]
  },
  {
   "cell_type": "code",
   "execution_count": 5,
   "id": "802d5143",
   "metadata": {
    "colab": {
     "base_uri": "https://localhost:8080/",
     "height": 0
    },
    "id": "802d5143",
    "outputId": "2d9453b9-ed42-441b-b4f5-32db28b90024"
   },
   "outputs": [
    {
     "data": {
      "text/plain": [
       "[('only', 'RB'),\n",
       " ('i', 'JJ'),\n",
       " (\"'m\", 'VBP'),\n",
       " ('telling', 'VBG'),\n",
       " ('do', 'VBP'),\n",
       " (\"n't\", 'RB'),\n",
       " ('buyi', 'VB'),\n",
       " (\"'m\", 'VBP'),\n",
       " ('totally', 'RB'),\n",
       " ('disappointedpoor', 'JJ'),\n",
       " ('batterypoor', 'JJ'),\n",
       " ('camerawaste', 'NN'),\n",
       " ('of', 'IN'),\n",
       " ('money', 'NN')]"
      ]
     },
     "execution_count": 5,
     "metadata": {},
     "output_type": "execute_result"
    }
   ],
   "source": [
    "pos_tagged_reviews = [nltk.pos_tag(review) for review in tokenized_reviews]\n",
    "pos_tagged_reviews[5]"
   ]
  },
  {
   "cell_type": "markdown",
   "id": "7b6a7af9",
   "metadata": {
    "id": "7b6a7af9"
   },
   "source": [
    "### For the topic model, we should  want to include only nouns."
   ]
  },
  {
   "cell_type": "code",
   "execution_count": 6,
   "id": "a7ada21b",
   "metadata": {
    "colab": {
     "base_uri": "https://localhost:8080/",
     "height": 0
    },
    "id": "a7ada21b",
    "outputId": "47c8f972-0617-41b1-89e9-47ba86708c8c"
   },
   "outputs": [
    {
     "name": "stdout",
     "output_type": "stream",
     "text": [
      "$: dollar\n",
      "    $ -$ --$ A$ C$ HK$ M$ NZ$ S$ U.S.$ US$\n",
      "'': closing quotation mark\n",
      "    ' ''\n",
      "(: opening parenthesis\n",
      "    ( [ {\n",
      "): closing parenthesis\n",
      "    ) ] }\n",
      ",: comma\n",
      "    ,\n",
      "--: dash\n",
      "    --\n",
      ".: sentence terminator\n",
      "    . ! ?\n",
      ":: colon or ellipsis\n",
      "    : ; ...\n",
      "CC: conjunction, coordinating\n",
      "    & 'n and both but either et for less minus neither nor or plus so\n",
      "    therefore times v. versus vs. whether yet\n",
      "CD: numeral, cardinal\n",
      "    mid-1890 nine-thirty forty-two one-tenth ten million 0.5 one forty-\n",
      "    seven 1987 twenty '79 zero two 78-degrees eighty-four IX '60s .025\n",
      "    fifteen 271,124 dozen quintillion DM2,000 ...\n",
      "DT: determiner\n",
      "    all an another any both del each either every half la many much nary\n",
      "    neither no some such that the them these this those\n",
      "EX: existential there\n",
      "    there\n",
      "FW: foreign word\n",
      "    gemeinschaft hund ich jeux habeas Haementeria Herr K'ang-si vous\n",
      "    lutihaw alai je jour objets salutaris fille quibusdam pas trop Monte\n",
      "    terram fiche oui corporis ...\n",
      "IN: preposition or conjunction, subordinating\n",
      "    astride among uppon whether out inside pro despite on by throughout\n",
      "    below within for towards near behind atop around if like until below\n",
      "    next into if beside ...\n",
      "JJ: adjective or numeral, ordinal\n",
      "    third ill-mannered pre-war regrettable oiled calamitous first separable\n",
      "    ectoplasmic battery-powered participatory fourth still-to-be-named\n",
      "    multilingual multi-disciplinary ...\n",
      "JJR: adjective, comparative\n",
      "    bleaker braver breezier briefer brighter brisker broader bumper busier\n",
      "    calmer cheaper choosier cleaner clearer closer colder commoner costlier\n",
      "    cozier creamier crunchier cuter ...\n",
      "JJS: adjective, superlative\n",
      "    calmest cheapest choicest classiest cleanest clearest closest commonest\n",
      "    corniest costliest crassest creepiest crudest cutest darkest deadliest\n",
      "    dearest deepest densest dinkiest ...\n",
      "LS: list item marker\n",
      "    A A. B B. C C. D E F First G H I J K One SP-44001 SP-44002 SP-44005\n",
      "    SP-44007 Second Third Three Two * a b c d first five four one six three\n",
      "    two\n",
      "MD: modal auxiliary\n",
      "    can cannot could couldn't dare may might must need ought shall should\n",
      "    shouldn't will would\n",
      "NN: noun, common, singular or mass\n",
      "    common-carrier cabbage knuckle-duster Casino afghan shed thermostat\n",
      "    investment slide humour falloff slick wind hyena override subhumanity\n",
      "    machinist ...\n",
      "NNP: noun, proper, singular\n",
      "    Motown Venneboerger Czestochwa Ranzer Conchita Trumplane Christos\n",
      "    Oceanside Escobar Kreisler Sawyer Cougar Yvette Ervin ODI Darryl CTCA\n",
      "    Shannon A.K.C. Meltex Liverpool ...\n",
      "NNPS: noun, proper, plural\n",
      "    Americans Americas Amharas Amityvilles Amusements Anarcho-Syndicalists\n",
      "    Andalusians Andes Andruses Angels Animals Anthony Antilles Antiques\n",
      "    Apache Apaches Apocrypha ...\n",
      "NNS: noun, common, plural\n",
      "    undergraduates scotches bric-a-brac products bodyguards facets coasts\n",
      "    divestitures storehouses designs clubs fragrances averages\n",
      "    subjectivists apprehensions muses factory-jobs ...\n",
      "PDT: pre-determiner\n",
      "    all both half many quite such sure this\n",
      "POS: genitive marker\n",
      "    ' 's\n",
      "PRP: pronoun, personal\n",
      "    hers herself him himself hisself it itself me myself one oneself ours\n",
      "    ourselves ownself self she thee theirs them themselves they thou thy us\n",
      "PRP$: pronoun, possessive\n",
      "    her his mine my our ours their thy your\n",
      "RB: adverb\n",
      "    occasionally unabatingly maddeningly adventurously professedly\n",
      "    stirringly prominently technologically magisterially predominately\n",
      "    swiftly fiscally pitilessly ...\n",
      "RBR: adverb, comparative\n",
      "    further gloomier grander graver greater grimmer harder harsher\n",
      "    healthier heavier higher however larger later leaner lengthier less-\n",
      "    perfectly lesser lonelier longer louder lower more ...\n",
      "RBS: adverb, superlative\n",
      "    best biggest bluntest earliest farthest first furthest hardest\n",
      "    heartiest highest largest least less most nearest second tightest worst\n",
      "RP: particle\n",
      "    aboard about across along apart around aside at away back before behind\n",
      "    by crop down ever fast for forth from go high i.e. in into just later\n",
      "    low more off on open out over per pie raising start teeth that through\n",
      "    under unto up up-pp upon whole with you\n",
      "SYM: symbol\n",
      "    % & ' '' ''. ) ). * + ,. < = > @ A[fj] U.S U.S.S.R * ** ***\n",
      "TO: \"to\" as preposition or infinitive marker\n",
      "    to\n",
      "UH: interjection\n",
      "    Goodbye Goody Gosh Wow Jeepers Jee-sus Hubba Hey Kee-reist Oops amen\n",
      "    huh howdy uh dammit whammo shucks heck anyways whodunnit honey golly\n",
      "    man baby diddle hush sonuvabitch ...\n",
      "VB: verb, base form\n",
      "    ask assemble assess assign assume atone attention avoid bake balkanize\n",
      "    bank begin behold believe bend benefit bevel beware bless boil bomb\n",
      "    boost brace break bring broil brush build ...\n",
      "VBD: verb, past tense\n",
      "    dipped pleaded swiped regummed soaked tidied convened halted registered\n",
      "    cushioned exacted snubbed strode aimed adopted belied figgered\n",
      "    speculated wore appreciated contemplated ...\n",
      "VBG: verb, present participle or gerund\n",
      "    telegraphing stirring focusing angering judging stalling lactating\n",
      "    hankerin' alleging veering capping approaching traveling besieging\n",
      "    encrypting interrupting erasing wincing ...\n",
      "VBN: verb, past participle\n",
      "    multihulled dilapidated aerosolized chaired languished panelized used\n",
      "    experimented flourished imitated reunifed factored condensed sheared\n",
      "    unsettled primed dubbed desired ...\n",
      "VBP: verb, present tense, not 3rd person singular\n",
      "    predominate wrap resort sue twist spill cure lengthen brush terminate\n",
      "    appear tend stray glisten obtain comprise detest tease attract\n",
      "    emphasize mold postpone sever return wag ...\n",
      "VBZ: verb, present tense, 3rd person singular\n",
      "    bases reconstructs marks mixes displeases seals carps weaves snatches\n",
      "    slumps stretches authorizes smolders pictures emerges stockpiles\n",
      "    seduces fizzes uses bolsters slaps speaks pleads ...\n",
      "WDT: WH-determiner\n",
      "    that what whatever which whichever\n",
      "WP: WH-pronoun\n",
      "    that what whatever whatsoever which who whom whosoever\n",
      "WP$: WH-pronoun, possessive\n",
      "    whose\n",
      "WRB: Wh-adverb\n",
      "    how however whence whenever where whereby whereever wherein whereof why\n",
      "``: opening quotation mark\n",
      "    ` ``\n"
     ]
    }
   ],
   "source": [
    "nltk.help.upenn_tagset()"
   ]
  },
  {
   "cell_type": "markdown",
   "id": "7c11e85f",
   "metadata": {
    "id": "7c11e85f"
   },
   "source": [
    "Loooking at pos tagset we have found that there are 4 tags related to nouns - NN, NNP, NNPS, NNS"
   ]
  },
  {
   "cell_type": "code",
   "execution_count": 7,
   "id": "813c3f27",
   "metadata": {
    "colab": {
     "base_uri": "https://localhost:8080/",
     "height": 0
    },
    "id": "813c3f27",
    "outputId": "ebcbcfa3-0565-48e8-f6dc-4c285be71757"
   },
   "outputs": [
    {
     "data": {
      "text/plain": [
       "[[('updates', 'NNS'), ('improvements', 'NNS')],\n",
       " [('mobile', 'NN'),\n",
       "  ('i', 'NN'),\n",
       "  ('battery', 'NN'),\n",
       "  ('hell', 'NN'),\n",
       "  ('backup', 'NN'),\n",
       "  ('hours', 'NNS'),\n",
       "  ('uses', 'NNS'),\n",
       "  ('idle', 'NN'),\n",
       "  ('discharged.this', 'NN'),\n",
       "  ('lie', 'NN'),\n",
       "  ('amazon', 'NN'),\n",
       "  ('lenove', 'NN'),\n",
       "  ('battery', 'NN'),\n",
       "  ('charger', 'NN'),\n",
       "  ('hours', 'NNS'),\n",
       "  ('don', 'NN')],\n",
       " [('i', 'NN'), ('%', 'NN'), ('cash', 'NN'), ('..', 'NN')],\n",
       " [],\n",
       " [('phone', 'NN'),\n",
       "  ('everthey', 'NN'),\n",
       "  ('phone', 'NN'),\n",
       "  ('problem', 'NN'),\n",
       "  ('amazon', 'NN'),\n",
       "  ('phone', 'NN'),\n",
       "  ('amazon', 'NN')]]"
      ]
     },
     "execution_count": 7,
     "metadata": {},
     "output_type": "execute_result"
    }
   ],
   "source": [
    "import re\n",
    "noun_reviews = []\n",
    "for word in pos_tagged_reviews:\n",
    "    noun_reviews.append([token for token in word if re.search(\"NN.*\", token[1])])\n",
    "\n",
    "noun_reviews[:5]"
   ]
  },
  {
   "cell_type": "markdown",
   "id": "33b826f8",
   "metadata": {
    "id": "33b826f8"
   },
   "source": [
    "### Lemmatize"
   ]
  },
  {
   "cell_type": "code",
   "execution_count": 8,
   "id": "38deb1cd",
   "metadata": {
    "id": "38deb1cd"
   },
   "outputs": [],
   "source": [
    "# Initialize lemmatizer\n",
    "lemmatizer = nltk.WordNetLemmatizer()\n",
    "\n",
    "lemmatized_reviews = []\n",
    "for sent in noun_reviews:\n",
    "    lemmatized_reviews.append([lemmatizer.lemmatize(word[0]) for word in sent])"
   ]
  },
  {
   "cell_type": "code",
   "execution_count": 9,
   "id": "a1db74f4",
   "metadata": {
    "colab": {
     "base_uri": "https://localhost:8080/",
     "height": 0
    },
    "id": "a1db74f4",
    "outputId": "b70b2d02-4f89-45d2-f5fd-ad0c971d6a45"
   },
   "outputs": [
    {
     "name": "stdout",
     "output_type": "stream",
     "text": [
      "[('camera', 'NN'), ('mo', 'NN'), ('issue', 'NN'), ('system', 'NN'), ('system', 'NN'), ('updates', 'NNS')]\n",
      "['camera', 'mo', 'issue', 'system', 'system', 'update']\n"
     ]
    }
   ],
   "source": [
    "print(noun_reviews[68])\n",
    "print(lemmatized_reviews[68])"
   ]
  },
  {
   "cell_type": "markdown",
   "id": "b6278a06",
   "metadata": {
    "id": "b6278a06"
   },
   "source": [
    "### Remove stopwords and punctuations if there are any"
   ]
  },
  {
   "cell_type": "code",
   "execution_count": 10,
   "id": "fda35245",
   "metadata": {
    "colab": {
     "base_uri": "https://localhost:8080/",
     "height": 0
    },
    "id": "fda35245",
    "outputId": "0530ae2c-5259-499f-8be0-72987ac080c2"
   },
   "outputs": [
    {
     "name": "stderr",
     "output_type": "stream",
     "text": [
      "[nltk_data] Downloading package stopwords to /root/nltk_data...\n",
      "[nltk_data]   Unzipping corpora/stopwords.zip.\n"
     ]
    }
   ],
   "source": [
    "from nltk.corpus import stopwords\n",
    "nltk.download('stopwords')\n",
    "from string import punctuation"
   ]
  },
  {
   "cell_type": "code",
   "execution_count": 11,
   "id": "49b93cd4",
   "metadata": {
    "id": "49b93cd4"
   },
   "outputs": [],
   "source": [
    "stop_words = stopwords.words('english') + list(punctuation) + [\"..\"] + [\"...\"]"
   ]
  },
  {
   "cell_type": "code",
   "execution_count": 12,
   "id": "939b61ae",
   "metadata": {
    "colab": {
     "base_uri": "https://localhost:8080/",
     "height": 0
    },
    "id": "939b61ae",
    "outputId": "af686580-4107-43cf-cc02-0cb650efd0e4"
   },
   "outputs": [
    {
     "name": "stdout",
     "output_type": "stream",
     "text": [
      "['product', 'camera', 'o', 'battery', 'phone', 'product', '..']\n",
      "['product', 'camera', 'battery', 'phone', 'product']\n"
     ]
    }
   ],
   "source": [
    "cleaned_reviews = []\n",
    "for words in lemmatized_reviews:\n",
    "    cleaned_reviews.append([word for word in words if word not in stop_words])\n",
    "\n",
    "print(lemmatized_reviews[24])\n",
    "print(cleaned_reviews[24])"
   ]
  },
  {
   "cell_type": "markdown",
   "id": "33539ccd",
   "metadata": {
    "id": "33539ccd"
   },
   "source": [
    "### Topic modelling using LDA"
   ]
  },
  {
   "cell_type": "code",
   "execution_count": 13,
   "id": "80b156c7",
   "metadata": {
    "id": "80b156c7"
   },
   "outputs": [],
   "source": [
    "import gensim\n",
    "import gensim.corpora as corpora\n",
    "from gensim.models import ldamodel\n",
    "from gensim.models import CoherenceModel"
   ]
  },
  {
   "cell_type": "code",
   "execution_count": 14,
   "id": "ac2a1344",
   "metadata": {
    "id": "ac2a1344"
   },
   "outputs": [],
   "source": [
    "id2word = corpora.Dictionary(cleaned_reviews)\n",
    "corpus = [id2word.doc2bow(word) for word in cleaned_reviews]"
   ]
  },
  {
   "cell_type": "code",
   "execution_count": 15,
   "id": "a4fd5e9d",
   "metadata": {
    "id": "a4fd5e9d"
   },
   "outputs": [],
   "source": [
    "# Building the LDA model\n",
    "lda_model = ldamodel.LdaModel(corpus=corpus, num_topics=12, id2word=id2word, random_state=42, passes=10, per_word_topics=True)"
   ]
  },
  {
   "cell_type": "code",
   "execution_count": 16,
   "id": "f8da6db2",
   "metadata": {
    "colab": {
     "base_uri": "https://localhost:8080/",
     "height": 0
    },
    "id": "f8da6db2",
    "outputId": "bcb54510-f6a0-419e-c0ea-381c1414e1ee"
   },
   "outputs": [
    {
     "name": "stdout",
     "output_type": "stream",
     "text": [
      "Model score: 0.48926964040228144\n"
     ]
    }
   ],
   "source": [
    "# coherence of the model with c_v metric\n",
    "coherence_model = CoherenceModel(model=lda_model, texts=cleaned_reviews, dictionary=id2word, coherence='c_v')\n",
    "print(\"Model score:\", coherence_model.get_coherence())"
   ]
  },
  {
   "cell_type": "code",
   "execution_count": 17,
   "id": "b_LUIlE98wuP",
   "metadata": {
    "colab": {
     "base_uri": "https://localhost:8080/",
     "height": 0
    },
    "id": "b_LUIlE98wuP",
    "outputId": "f801584b-7f67-4090-9040-095a5d033d5f"
   },
   "outputs": [
    {
     "data": {
      "text/plain": [
       "[(5,\n",
       "  '0.093*\"heat\" + 0.070*\".....\" + 0.052*\"processor\" + 0.038*\"everything\" + 0.038*\"budget\" + 0.031*\"....\" + 0.030*\"core\" + 0.025*\"display\" + 0.017*\"cell\" + 0.016*\"hr\"'),\n",
       " (9,\n",
       "  '0.158*\"camera\" + 0.136*\"battery\" + 0.064*\"quality\" + 0.061*\"phone\" + 0.045*\"performance\" + 0.029*\"backup\" + 0.019*\"issue\" + 0.017*\"life\" + 0.017*\"day\" + 0.015*\"mode\"'),\n",
       " (1,\n",
       "  '0.151*\"money\" + 0.128*\"....\" + 0.071*\"waste\" + 0.056*\"value\" + 0.046*\"glass\" + 0.038*\"speaker\" + 0.024*\"gorilla\" + 0.022*\"set\" + 0.022*\"ok\" + 0.020*\"piece\"'),\n",
       " (2,\n",
       "  '0.216*\"note\" + 0.113*\"k8\" + 0.090*\"lenovo\" + 0.030*\"sound\" + 0.023*\"dolby\" + 0.020*\"killer\" + 0.018*\"gallery\" + 0.018*\"system\" + 0.018*\"atmos\" + 0.018*\"excellent\"'),\n",
       " (0,\n",
       "  '0.138*\"mobile\" + 0.040*\"call\" + 0.036*\"screen\" + 0.031*\"feature\" + 0.030*\"option\" + 0.020*\"music\" + 0.017*\"software\" + 0.016*\"app\" + 0.015*\"video\" + 0.015*\"card\"'),\n",
       " (6,\n",
       "  '0.126*\"range\" + 0.075*\"price\" + 0.046*\"work\" + 0.038*\"mobile\" + 0.038*\"specification\" + 0.035*\"super\" + 0.034*\"......\" + 0.030*\"bit\" + 0.026*\"cam\" + 0.025*\"k\"'),\n",
       " (3,\n",
       "  '0.078*\"phone\" + 0.040*\"day\" + 0.038*\"amazon\" + 0.035*\"service\" + 0.034*\"issue\" + 0.027*\"time\" + 0.027*\"lenovo\" + 0.026*\"battery\" + 0.024*\"month\" + 0.023*\"device\"'),\n",
       " (4,\n",
       "  '0.280*\"product\" + 0.176*\"problem\" + 0.080*\"network\" + 0.075*\"issue\" + 0.066*\"heating\" + 0.021*\"jio\" + 0.021*\"sim\" + 0.019*\"volta\" + 0.010*\"connection\" + 0.009*\"signal\"'),\n",
       " (7,\n",
       "  '0.118*\"charger\" + 0.059*\"hai\" + 0.056*\"handset\" + 0.037*\"box\" + 0.029*\"turbo\" + 0.027*\"charge\" + 0.021*\"plz\" + 0.016*\"hi\" + 0.016*\"cable\" + 0.013*\"bhi\"'),\n",
       " (8,\n",
       "  '0.242*\"price\" + 0.065*\"superb\" + 0.046*\"buy\" + 0.045*\"headphone\" + 0.039*\"thanks\" + 0.036*\"worth\" + 0.034*\"feature\" + 0.029*\"smartphone\" + 0.026*\"expectation\" + 0.017*\"offer\"')]"
      ]
     },
     "execution_count": 17,
     "metadata": {},
     "output_type": "execute_result"
    }
   ],
   "source": [
    "lda_model.show_topics()"
   ]
  },
  {
   "cell_type": "markdown",
   "id": "vYA4icI1DbAf",
   "metadata": {
    "id": "vYA4icI1DbAf"
   },
   "source": [
    "### Create a topic model using LDA with what you think is the optimal number of topics\n",
    "9 topics seem to be optimal number of topics with more coherence score"
   ]
  },
  {
   "cell_type": "code",
   "execution_count": 18,
   "id": "eSp7oIMZ9-aB",
   "metadata": {
    "id": "eSp7oIMZ9-aB"
   },
   "outputs": [],
   "source": [
    "# Building the LDA model\n",
    "lda_model2 = ldamodel.LdaModel(corpus=corpus, num_topics=9, id2word=id2word, random_state=42, passes=10, per_word_topics=True)"
   ]
  },
  {
   "cell_type": "code",
   "execution_count": 19,
   "id": "753d_TbC-PL3",
   "metadata": {
    "colab": {
     "base_uri": "https://localhost:8080/",
     "height": 0
    },
    "id": "753d_TbC-PL3",
    "outputId": "b4cf94e3-9c97-4b98-81e8-4d9cef1ef0e0"
   },
   "outputs": [
    {
     "name": "stdout",
     "output_type": "stream",
     "text": [
      "Model score: 0.5659949842769635\n"
     ]
    }
   ],
   "source": [
    "# coherence of the model with c_v metric\n",
    "coherence_model2 = CoherenceModel(model=lda_model2, texts=cleaned_reviews, dictionary=id2word, coherence='c_v')\n",
    "print(\"Model score:\", coherence_model2.get_coherence())"
   ]
  },
  {
   "cell_type": "code",
   "execution_count": 20,
   "id": "JYz_7XYICT5L",
   "metadata": {
    "colab": {
     "base_uri": "https://localhost:8080/",
     "height": 0
    },
    "id": "JYz_7XYICT5L",
    "outputId": "3f339c8d-1dcf-4b52-de3a-0500c4c99516"
   },
   "outputs": [
    {
     "data": {
      "text/plain": [
       "[(0,\n",
       "  '0.119*\"mobile\" + 0.037*\"screen\" + 0.034*\"call\" + 0.024*\"option\" + 0.022*\"feature\" + 0.020*\"video\" + 0.016*\"app\" + 0.015*\"light\" + 0.014*\"cast\" + 0.013*\"music\"'),\n",
       " (1,\n",
       "  '0.120*\"money\" + 0.056*\"waste\" + 0.045*\"value\" + 0.044*\"performance\" + 0.041*\"speaker\" + 0.037*\"glass\" + 0.027*\"mobile\" + 0.023*\"piece\" + 0.019*\"gorilla\" + 0.017*\"budget\"'),\n",
       " (2,\n",
       "  '0.119*\"note\" + 0.068*\"k8\" + 0.055*\"feature\" + 0.050*\"lenovo\" + 0.029*\"phone\" + 0.021*\"sound\" + 0.021*\"h\" + 0.019*\"dolby\" + 0.014*\"quality\" + 0.012*\"gb\"'),\n",
       " (3,\n",
       "  '0.212*\"phone\" + 0.032*\"issue\" + 0.031*\"battery\" + 0.031*\"day\" + 0.028*\"time\" + 0.021*\"month\" + 0.020*\"problem\" + 0.019*\"lenovo\" + 0.017*\"service\" + 0.013*\"update\"'),\n",
       " (4,\n",
       "  '0.215*\"product\" + 0.101*\"problem\" + 0.053*\"network\" + 0.042*\"heating\" + 0.041*\"issue\" + 0.024*\"amazon\" + 0.023*\"sim\" + 0.017*\"return\" + 0.014*\"jio\" + 0.013*\"volta\"'),\n",
       " (5,\n",
       "  '0.152*\"camera\" + 0.112*\"battery\" + 0.071*\"phone\" + 0.059*\"quality\" + 0.031*\"performance\" + 0.028*\"backup\" + 0.015*\"processor\" + 0.014*\"mode\" + 0.013*\"life\" + 0.012*\"issue\"'),\n",
       " (6,\n",
       "  '0.207*\"price\" + 0.084*\"phone\" + 0.081*\"range\" + 0.050*\"device\" + 0.032*\"mobile\" + 0.023*\"super\" + 0.019*\"set\" + 0.012*\"gud\" + 0.008*\"concern\" + 0.008*\"complain\"'),\n",
       " (7,\n",
       "  '0.082*\"charger\" + 0.041*\"hai\" + 0.039*\"handset\" + 0.020*\"turbo\" + 0.017*\"ho\" + 0.017*\"box\" + 0.014*\"plz\" + 0.014*\"item\" + 0.011*\"charge\" + 0.011*\"hi\"'),\n",
       " (8,\n",
       "  '0.088*\"....\" + 0.064*\".....\" + 0.060*\"delivery\" + 0.046*\"superb\" + 0.032*\"headphone\" + 0.028*\"thanks\" + 0.027*\"smartphone\" + 0.027*\"earphone\" + 0.024*\"......\" + 0.021*\"ok\"')]"
      ]
     },
     "execution_count": 20,
     "metadata": {},
     "output_type": "execute_result"
    }
   ],
   "source": [
    "lda_model2.show_topics()"
   ]
  },
  {
   "cell_type": "markdown",
   "id": "oUz2_gbeCaUZ",
   "metadata": {
    "id": "oUz2_gbeCaUZ"
   },
   "source": [
    "### Interpret the topics"
   ]
  },
  {
   "cell_type": "code",
   "execution_count": 21,
   "id": "WzyQyIPlDysD",
   "metadata": {
    "colab": {
     "base_uri": "https://localhost:8080/",
     "height": 0
    },
    "id": "WzyQyIPlDysD",
    "outputId": "00642012-3603-45b9-d0a2-f336f8951dc3"
   },
   "outputs": [
    {
     "name": "stdout",
     "output_type": "stream",
     "text": [
      "0 ['mobile', 'screen', 'call', 'option', 'feature', 'video', 'app', 'light', 'cast', 'music']\n",
      "1 ['money', 'waste', 'value', 'performance', 'speaker', 'glass', 'mobile', 'piece', 'gorilla', 'budget']\n",
      "2 ['note', 'k8', 'feature', 'lenovo', 'phone', 'sound', 'h', 'dolby', 'quality', 'gb']\n",
      "3 ['phone', 'issue', 'battery', 'day', 'time', 'month', 'problem', 'lenovo', 'service', 'update']\n",
      "4 ['product', 'problem', 'network', 'heating', 'issue', 'amazon', 'sim', 'return', 'jio', 'volta']\n",
      "5 ['camera', 'battery', 'phone', 'quality', 'performance', 'backup', 'processor', 'mode', 'life', 'issue']\n",
      "6 ['price', 'phone', 'range', 'device', 'mobile', 'super', 'set', 'gud', 'concern', 'complain']\n",
      "7 ['charger', 'hai', 'handset', 'turbo', 'ho', 'box', 'plz', 'item', 'charge', 'hi']\n",
      "8 ['....', '.....', 'delivery', 'superb', 'headphone', 'thanks', 'smartphone', 'earphone', '......', 'ok']\n"
     ]
    }
   ],
   "source": [
    "topics = lda_model2.show_topics(formatted=False)\n",
    "topics_words = [(topic[0], [word[0] for word in topic[1]]) for topic in topics]\n",
    "\n",
    "for topic,words in topics_words:\n",
    "    print(str(topic) + \" \" + str(words))"
   ]
  }
 ],
 "metadata": {
  "accelerator": "GPU",
  "colab": {
   "provenance": []
  },
  "gpuClass": "standard",
  "kernelspec": {
   "display_name": "Python 3 (ipykernel)",
   "language": "python",
   "name": "python3"
  },
  "language_info": {
   "codemirror_mode": {
    "name": "ipython",
    "version": 3
   },
   "file_extension": ".py",
   "mimetype": "text/x-python",
   "name": "python",
   "nbconvert_exporter": "python",
   "pygments_lexer": "ipython3",
   "version": "3.10.9"
  }
 },
 "nbformat": 4,
 "nbformat_minor": 5
}
